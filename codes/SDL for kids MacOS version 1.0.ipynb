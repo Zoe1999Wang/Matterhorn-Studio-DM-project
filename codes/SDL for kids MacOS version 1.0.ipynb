{
 "cells": [
  {
   "cell_type": "markdown",
   "id": "7fadee20",
   "metadata": {},
   "source": [
    "## MacOS version"
   ]
  },
  {
   "cell_type": "markdown",
   "id": "4caf96cd",
   "metadata": {},
   "source": [
    "### connect with your mircobit device"
   ]
  },
  {
   "cell_type": "code",
   "execution_count": 1,
   "id": "26239577",
   "metadata": {},
   "outputs": [],
   "source": [
    "#importing packages\n",
    "import serial\n",
    "import time\n",
    "import pandas as pd\n",
    "import numpy as np\n",
    "\n",
    "ser = serial.Serial()\n",
    "ser=serial.Serial(\"/dev/cu.usbmodem144102\",115200)\n",
    "# type \"ls /dev/cu.*\" in terminal to find the serial number for MacOS device, this number may be different for each time"
   ]
  },
  {
   "cell_type": "markdown",
   "id": "77581851",
   "metadata": {},
   "source": [
    "### generate random color with CV2"
   ]
  },
  {
   "cell_type": "code",
   "execution_count": 2,
   "id": "094f89ee",
   "metadata": {},
   "outputs": [],
   "source": [
    "import random\n",
    "import numpy as np\n",
    "import cv2\n",
    "\n",
    "# Function to generate random color\n",
    "def generate_random_color():\n",
    "    red = random.randint(0, 255)\n",
    "    green = random.randint(0, 255)\n",
    "    blue = random.randint(0, 255)\n",
    "    return blue, green, red  # OpenCV uses BGR color format\n",
    "\n",
    "# Function to calculate the loss between two colors\n",
    "def calculate_loss(color1, color2):\n",
    "    return np.sqrt((color1[0] - color2[0]) ** 2 + (color1[1] - color2[1]) ** 2 + (color1[2] - color2[2]) ** 2)\n",
    "\n",
    "# Create a blank image\n",
    "width, height = 800, 400\n",
    "image = np.zeros((height, width, 3), dtype=np.uint8)\n",
    "\n",
    "# Create a named window for display\n",
    "cv2.namedWindow(\"Live Image\", cv2.WINDOW_NORMAL)\n",
    "\n",
    "# Define font properties for displaying text\n",
    "font = cv2.FONT_HERSHEY_SIMPLEX\n",
    "font_scale = 0.8\n",
    "font_color = (255, 255, 255)  # White color\n",
    "\n",
    "# Define the goal color\n",
    "goal_color = (0, 0, 255)  # Red color (BGR format)\n",
    "\n",
    "# Create an empty list to store the loss values\n",
    "loss_values = []\n",
    "\n",
    "# Main loop\n",
    "num_iterations = 0\n",
    "max_iterations = 10  # Set the desired number of iterations\n",
    "\n",
    "while num_iterations < max_iterations:\n",
    "    # Generate a new random color\n",
    "    current_color = generate_random_color()\n",
    "\n",
    "    # Calculate the loss between the goal color and the current color\n",
    "    loss = calculate_loss(goal_color, current_color)\n",
    "\n",
    "    # Add the loss value to the list\n",
    "    loss_values.append(loss)\n",
    "\n",
    "    # Update the live image with the current color\n",
    "    image[:, :] = current_color\n",
    "\n",
    "    # Add text information to the image\n",
    "    text = f\"Iteration: {num_iterations + 1}\"\n",
    "    cv2.putText(image, text, (10, 30), font, font_scale, font_color, 2)\n",
    "\n",
    "    # Plot a subplot for the goal color\n",
    "    # subplot_x = num_iterations * (width // (max_iterations + 1))\n",
    "    subplot_x = width // (max_iterations + 1)\n",
    "    subplot_width = width // (max_iterations + 1)\n",
    "    cv2.rectangle(image, (subplot_x, 60), (subplot_x + subplot_width, height - 60), goal_color, -1)\n",
    "\n",
    "    # Add text for the loss\n",
    "    loss_text = f\"Loss: {loss:.2f}\"\n",
    "    cv2.putText(image, loss_text, (10, height - 10), font, font_scale, font_color, 2)\n",
    "\n",
    "    # Draw the graph of loss values\n",
    "    if len(loss_values) > 1:\n",
    "        for i in range(1, len(loss_values)):\n",
    "            x1 = (i - 1) * (width // max_iterations)\n",
    "            y1 = height - int(loss_values[i - 1] * (height - 60) / max(loss_values))\n",
    "            x2 = i * (width // max_iterations)\n",
    "            y2 = height - int(loss_values[i] * (height - 60) / max(loss_values))\n",
    "            cv2.line(image, (x1, y1), (x2, y2), (255, 255, 255), 2)\n",
    "\n",
    "    # Display the image\n",
    "    cv2.imshow(\"Live Image\", image)\n",
    "    cv2.waitKey(1000)  # Adjust the wait time (in milliseconds) as needed\n",
    "\n",
    "    # Increment the iteration counter\n",
    "    num_iterations += 1\n",
    "\n",
    "# Close the window after the desired number of iterations\n",
    "cv2.destroyAllWindows()\n"
   ]
  },
  {
   "cell_type": "code",
   "execution_count": 3,
   "id": "d9d1a198",
   "metadata": {},
   "outputs": [
    {
     "data": {
      "text/plain": [
       "[<matplotlib.lines.Line2D at 0x7fae1bf90f10>]"
      ]
     },
     "execution_count": 3,
     "metadata": {},
     "output_type": "execute_result"
    },
    {
     "data": {
      "image/png": "[encoded data removed]",
      "text/plain": [
       "<Figure size 432x288 with 1 Axes>"
      ]
     },
     "metadata": {
      "needs_background": "light"
     },
     "output_type": "display_data"
    }
   ],
   "source": [
    "import matplotlib.pyplot as plt\n",
    "plt.plot(loss_values)"
   ]
  },
  {
   "cell_type": "markdown",
   "id": "a3ce4463",
   "metadata": {},
   "source": [
    "### use bayesian to reach the goal color"
   ]
  },
  {
   "cell_type": "code",
   "execution_count": 7,
   "id": "710c5884",
   "metadata": {},
   "outputs": [
    {
     "name": "stdout",
     "output_type": "stream",
     "text": [
      "(Characterisation) Measure RGB sample:\n",
      "{'R': 117, 'G': 71, 'B': 61, 'outcome': 237.41524803600967, 'time': 1689539005.017233}\n",
      "(Characterisation) Measure RGB sample:\n",
      "{'R': 122, 'G': 69, 'B': 59, 'outcome': 240.95850265139018, 'time': 1689539005.975181}\n",
      "(Characterisation) Measure RGB sample:\n",
      "{'R': 68, 'G': 109, 'B': 65, 'outcome': 229.35779908256882, 'time': 1689539006.944224}\n",
      "(Characterisation) Measure RGB sample:\n",
      "{'R': 135, 'G': 64, 'B': 56, 'outcome': 248.84131489766727, 'time': 1689539007.918304}\n",
      "(Characterisation) Measure RGB sample:\n",
      "{'R': 187, 'G': 34, 'B': 38, 'outcome': 288.46836914989484, 'time': 1689539008.887062}\n",
      "(Characterisation) Measure RGB sample:\n",
      "{'R': 186, 'G': 37, 'B': 37, 'outcome': 288.9446313742479, 'time': 1689539010.155988}\n",
      "(Characterisation) Measure RGB sample:\n",
      "{'R': 179, 'G': 43, 'B': 38, 'outcome': 284.568093784247, 'time': 1689539011.450079}\n",
      "(Characterisation) Measure RGB sample:\n",
      "{'R': 186, 'G': 37, 'B': 32, 'outcome': 292.7353753819309, 'time': 1689539012.7279491}\n",
      "(Characterisation) Measure RGB sample:\n",
      "{'R': 190, 'G': 38, 'B': 33, 'outcome': 294.6659125178886, 'time': 1689539014.101232}\n",
      "(Characterisation) Measure RGB sample:\n",
      "{'R': 185, 'G': 37, 'B': 32, 'outcome': 292.1010099263609, 'time': 1689539015.542079}\n",
      "(Characterisation) Measure RGB sample:\n",
      "{'R': 187, 'G': 36, 'B': 32, 'outcome': 293.2473358787766, 'time': 1689539016.8581529}\n",
      "(Characterisation) Measure RGB sample:\n",
      "{'R': 185, 'G': 40, 'B': 35, 'outcome': 290.215437218629, 'time': 1689539018.186219}\n",
      "(Characterisation) Measure RGB sample:\n",
      "{'R': 186, 'G': 39, 'B': 35, 'outcome': 290.71807649336154, 'time': 1689539019.6118941}\n",
      "(Characterisation) Measure RGB sample:\n",
      "{'R': 189, 'G': 35, 'B': 31, 'outcome': 295.1643609923122, 'time': 1689539020.882925}\n",
      "(Characterisation) Measure RGB sample:\n",
      "{'R': 193, 'G': 35, 'B': 31, 'outcome': 297.7414986191881, 'time': 1689539022.269182}\n"
     ]
    },
    {
     "data": {
      "text/plain": [
       "[<matplotlib.lines.Line2D at 0x7fae1c196910>]"
      ]
     },
     "execution_count": 7,
     "metadata": {},
     "output_type": "execute_result"
    },
    {
     "data": {
      "image/png": "[encoded data removed]",
      "text/plain": [
       "<Figure size 432x288 with 1 Axes>"
      ]
     },
     "metadata": {
      "needs_background": "light"
     },
     "output_type": "display_data"
    }
   ],
   "source": [
    "import serial\n",
    "import time\n",
    "import numpy as np\n",
    "import cv2\n",
    "from bayes_opt import BayesianOptimization\n",
    "from bayes_opt import UtilityFunction\n",
    "\n",
    "ser = serial.Serial(\"/dev/cu.usbmodem144102\", 115200)\n",
    "\n",
    "# Define the optimization goal\n",
    "goal_color = (0, 0, 255)  # Red color (BGR format)\n",
    "\n",
    "# Initialize CV2 window for live image display\n",
    "width, height = 800, 400\n",
    "image = np.zeros((height, width, 3), dtype=np.uint8)\n",
    "cv2.namedWindow(\"Live Image\", cv2.WINDOW_NORMAL)\n",
    "font = cv2.FONT_HERSHEY_SIMPLEX\n",
    "font_scale = 0.8\n",
    "font_color = (255, 255, 255)\n",
    "\n",
    "max_iterations = 15  # Set the desired number of iterations\n",
    "\n",
    "serial_line_tested = False\n",
    "def test_serial_line():\n",
    "    ser.write(b\",\")\n",
    "    serial_data = str(ser.readline().decode('utf8'))\n",
    "    serial_data = str(ser.readline().decode('utf8'))\n",
    "    serial_data = str(ser.readline().decode('utf8'))\n",
    "    # do nothing with it\n",
    "    global serial_line_tested\n",
    "    serial_line_tested = True\n",
    "\n",
    "def calculate_loss(color1, color2):\n",
    "    return np.sqrt(\n",
    "        (color1[0] - color2[\"R\"]) ** 2\n",
    "        + (color1[1] - color2[\"G\"]) ** 2\n",
    "        + (color1[2] - color2[\"B\"]) ** 2\n",
    "    )\n",
    "\n",
    "def measure_outcome():\n",
    "    if not serial_line_tested:\n",
    "        test_serial_line()\n",
    "    time.sleep(0.4)\n",
    "    print('(Characterisation) Measure RGB sample:')\n",
    "    ser.write(b\",\")\n",
    "    serial_data = str(ser.readline().decode('utf-8'))\n",
    "    new_sample = {}\n",
    "    while True:\n",
    "        color, val = serial_data.split(\":\")\n",
    "        new_sample[str(color)] = int(val)\n",
    "        if color == \"B\":\n",
    "            break\n",
    "        else:\n",
    "            serial_data = str(ser.readline().decode('utf-8'))\n",
    "\n",
    "    # Make sure the keys \"R\", \"G\", and \"B\" exist in the new_sample dictionary\n",
    "    for color_key in [\"R\", \"G\", \"B\"]:\n",
    "        if color_key not in new_sample:\n",
    "            new_sample[color_key] = 0\n",
    "\n",
    "    new_sample[\"outcome\"] = calculate_loss(goal_color, new_sample)\n",
    "    new_sample[\"time\"] = time.time()\n",
    "\n",
    "    print(new_sample)\n",
    "    return new_sample\n",
    "\n",
    "def objective_function(R, G, B):\n",
    "    # Simulate the outcome based on the RGB values\n",
    "    outcome = calculate_loss(goal_color, {'R': R, 'G': G, 'B': B})\n",
    "    return outcome\n",
    "\n",
    "# Define the utility function (Expected Improvement)\n",
    "utility = UtilityFunction(kind=\"ei\", kappa=2.5, xi=0.0)\n",
    "\n",
    "loss_values = []\n",
    "\n",
    "if __name__ == \"__main__\":\n",
    "    # Define the search space bounds\n",
    "    pbounds = {'R': (0, 255), 'G': (0, 255), 'B': (0, 255)}\n",
    "\n",
    "    # Define the Bayesian optimization function\n",
    "    optimizer = BayesianOptimization(\n",
    "        f=objective_function,\n",
    "        pbounds=pbounds,\n",
    "        random_state=1,\n",
    "        verbose=2\n",
    "    )\n",
    "\n",
    "    for iteration in range(max_iterations):\n",
    "        # Measure the outcome from the micro:bit\n",
    "        new_sample = measure_outcome()\n",
    "\n",
    "        # Update the optimizer with the new sample\n",
    "        optimizer.register(params={'R': new_sample['R'], 'G': new_sample['G'], 'B': new_sample['B']}, target=new_sample['outcome'])\n",
    "\n",
    "        # Optimize the acquisition function to get the next sample\n",
    "        next_sample = optimizer.suggest(utility_function=utility)\n",
    "\n",
    "        # Update the live image with the current color\n",
    "        image[:, :] = [next_sample['B'], next_sample['G'], next_sample['R']]\n",
    "\n",
    "        # Add text information to the image\n",
    "        text = f\"Iteration: {iteration + 1}\"\n",
    "        cv2.putText(image, text, (10, 30), font, font_scale, font_color, 2)\n",
    "\n",
    "        # Add text for the loss\n",
    "        loss_text = f\"Loss: {new_sample['outcome']:.2f}\"\n",
    "        cv2.putText(image, loss_text, (10, height - 10), font, font_scale, font_color, 2)\n",
    "        # Plot a subplot for the goal color\n",
    "        subplot_x = width // (max_iterations + 1)\n",
    "        subplot_width = width // (max_iterations + 1)\n",
    "        cv2.rectangle(image, (subplot_x, 60), (subplot_x + subplot_width, height - 60), goal_color, -1)\n",
    "        \n",
    "        # Calculate the loss between the goal color and the current color\n",
    "        loss = calculate_loss(goal_color, {'R': next_sample['R'], 'G': next_sample['G'], 'B': next_sample['B']})\n",
    "        # Add the loss value to the list\n",
    "        loss_values.append(loss)\n",
    "        \n",
    "        # Display the updated image\n",
    "        cv2.imshow(\"Live Image\", image)\n",
    "        cv2.waitKey(500)\n",
    "\n",
    "        # Other optimization steps (omitted for clarity)\n",
    "\n",
    "    # Save the final image\n",
    "    cv2.imwrite(\"final_image.png\", image)\n",
    "\n",
    "    # Close the CV2 window\n",
    "    cv2.destroyAllWindows()\n",
    "\n",
    "plt.plot(loss_values)\n"
   ]
  },
  {
   "cell_type": "code",
   "execution_count": null,
   "id": "385bdf25",
   "metadata": {},
   "outputs": [],
   "source": []
  }
 ],
 "metadata": {
  "kernelspec": {
   "display_name": "Python 3 (ipykernel)",
   "language": "python",
   "name": "python3"
  },
  "language_info": {
   "codemirror_mode": {
    "name": "ipython",
    "version": 3
   },
   "file_extension": ".py",
   "mimetype": "text/x-python",
   "name": "python",
   "nbconvert_exporter": "python",
   "pygments_lexer": "ipython3",
   "version": "3.9.7"
  }
 },
 "nbformat": 4,
 "nbformat_minor": 5
}
