{
 "cells": [
  {
   "cell_type": "markdown",
   "id": "bd96d2d5",
   "metadata": {},
   "source": [
    "# Bayesian optimisation"
   ]
  },
  {
   "cell_type": "markdown",
   "id": "2d32c9cb",
   "metadata": {},
   "source": [
    "Bayesian optimisation is a powerful technique for optimising black-box functions that are expensive to evaluate. In our case, we want to optimise the actuator control on deformable mirrors by using 5 input PWM values. "
   ]
  },
  {
   "cell_type": "markdown",
   "id": "709bf9ee",
   "metadata": {},
   "source": [
    "We need to define the objective_function that takes 5 PWM values as inputs and performs the actuator control using those values. \n",
    "\n",
    "This could be done by giving PWM values to raspberry pi and then take pictures from Thorlab camera to analysis the image hence link the quality of focal spot image with PWM values.\n",
    "\n",
    "Then BayesianOptimisation maximises the objective.\n",
    "\n",
    "The search space boundaries for the PWM values can be defined by using the pbounds dictionary. Adjust the lower and upper bounds according to the valid range for each PWM value, which is 0 to 4095 in our case.\n",
    "\n",
    "Then, we could initialise the BayesianOptimization object, passing the objective function and the search space boundaries. The verbose parameter controls the verbosity level of the optimisation process.\n",
    "\n",
    "Set the number of optimisation iterations with max_iter, and then perform the Bayesian optimisation using the maximise method. The init_points parameter specifies the number of initial random exploration points.\n",
    "\n",
    "After the optimisation process, the best PWM values can be obtained and the maximum performance metric achieved from the optimizer.max dictionary."
   ]
  },
  {
   "cell_type": "code",
   "execution_count": null,
   "id": "cf17cecf",
   "metadata": {},
   "outputs": [],
   "source": [
    "from bayes_opt import BayesianOptimization\n",
    "\n",
    "# Define the objective function\n",
    "def objective_function(pwm1, pwm2, pwm3, pwm4, pwm5):\n",
    "    # Perform the actuator control using the PWM values\n",
    "    # Calculate the performance metric (e.g., image quality, error, etc.)\n",
    "    # Return the negative value of the performance metric since BayesianOptimization maximizes the objective\n",
    "\n",
    "    # Example: Calculate the performance metric based on the PWM values (replace with your own implementation)\n",
    "    performance_metric =\n",
    "    #need to be done in a live closed-loop system, diffcult to code offline...\n",
    "\n",
    "    return performance_metric\n",
    "\n",
    "# Define the search space boundaries for the PWM values (0 to 4095)\n",
    "pbounds = {'pwm1': (0, 4095), 'pwm2': (0, 4095), 'pwm3': (0, 4095), 'pwm4': (0, 4095), 'pwm5': (0, 4095)}\n",
    "\n",
    "# Initialize the Bayesian Optimization object\n",
    "optimizer = BayesianOptimization(\n",
    "    f=objective_function,\n",
    "    pbounds=pbounds,\n",
    "    verbose=2  # Set verbosity level (0: quiet, 1: default, 2: verbose)\n",
    ")\n",
    "\n",
    "# Set the number of optimization iterations\n",
    "max_iter = 10\n",
    "\n",
    "# Perform Bayesian Optimization\n",
    "optimizer.maximize(init_points=5, n_iter=max_iter)\n",
    "\n",
    "# Retrieve the best PWM values and maximum performance metric achieved\n",
    "best_pwm_values = optimizer.max['params']\n",
    "best_performance_metric = -optimizer.max['target']\n",
    "\n",
    "print(\"Best PWM Values:\", best_pwm_values)\n",
    "print(\"Best Performance Metric:\", best_performance_metric)\n"
   ]
  }
 ],
 "metadata": {
  "kernelspec": {
   "display_name": "MLBD-MRes",
   "language": "python",
   "name": "mlbd-mres"
  },
  "language_info": {
   "codemirror_mode": {
    "name": "ipython",
    "version": 3
   },
   "file_extension": ".py",
   "mimetype": "text/x-python",
   "name": "python",
   "nbconvert_exporter": "python",
   "pygments_lexer": "ipython3",
   "version": "3.9.7"
  }
 },
 "nbformat": 4,
 "nbformat_minor": 5
}
