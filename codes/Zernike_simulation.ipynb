{
 "cells": [
  {
   "cell_type": "markdown",
   "metadata": {},
   "source": [
    "# Zernike simulation and BO optimisation"
   ]
  },
  {
   "cell_type": "markdown",
   "metadata": {},
   "source": [
    "## I. Visualisation of focal spots with Zernike terms "
   ]
  },
  {
   "cell_type": "markdown",
   "metadata": {},
   "source": [
    "adjust parameters and get the image of focal spots"
   ]
  },
  {
   "cell_type": "code",
   "execution_count": 1,
   "metadata": {},
   "outputs": [
    {
     "data": {
      "application/vnd.jupyter.widget-view+json": {
       "model_id": "ef16700672934a26afdf659aef3d9342",
       "version_major": 2,
       "version_minor": 0
      },
      "text/plain": [
       "interactive(children=(FloatSlider(value=0.0, description='Parameter 0', min=-100.0, step=1.0), FloatSlider(val…"
      ]
     },
     "metadata": {},
     "output_type": "display_data"
    },
    {
     "data": {
      "text/plain": [
       "<function __main__.update_zernike_parameters(**params)>"
      ]
     },
     "execution_count": 1,
     "metadata": {},
     "output_type": "execute_result"
    }
   ],
   "source": [
    "from IPython.display import display, clear_output\n",
    "import poppy\n",
    "import matplotlib.pyplot as plt\n",
    "from ipywidgets import widgets\n",
    "\n",
    "RADIUS = 1.0  # meters\n",
    "WAVELENGTH = 532e-9  # The wavelength of the laser used in Imperial Lab\n",
    "PIXSCALE = 0.01  # arcsec / pix\n",
    "FOV = 1  # arcsec\n",
    "NUM_PARAMETERS = 10  # Number of Zernike parameters, try as many as you want!\n",
    "\n",
    "def update_zernike_parameters(**params):\n",
    "    clear_output(wait=True)  # Clear the output in Jupyter Notebook\n",
    "    \n",
    "    osys_intermediate = poppy.OpticalSystem()\n",
    "    circular_aperture = poppy.CircularAperture(radius=RADIUS)\n",
    "    osys_intermediate.add_pupil(circular_aperture)\n",
    "    \n",
    "    # Add the Zernike pupil with the current parameters\n",
    "    coefficients_sequence = [params[f'Parameter_{i}']*10**-9 for i in range(NUM_PARAMETERS)]\n",
    "    thin_lens_pupil = poppy.ZernikeWFE(radius=RADIUS, coefficients=coefficients_sequence)\n",
    "    osys_intermediate.add_pupil(thin_lens_pupil)\n",
    "    \n",
    "    # Propagate the wavefront to the final stage\n",
    "    osys_intermediate.add_detector(pixelscale=PIXSCALE, fov_arcsec=FOV)\n",
    "    psf_intermediate = osys_intermediate.calc_psf(wavelength=WAVELENGTH)\n",
    "    \n",
    "    intermediate_psf = psf_intermediate[0].data\n",
    "    \n",
    "    plt.imshow(intermediate_psf, cmap='viridis', origin='lower')\n",
    "    plt.colorbar()\n",
    "    plt.title('Intermediate Intensity Distribution')\n",
    "    plt.show()\n",
    "\n",
    "# Set up interactive widgets for parameter adjustment\n",
    "param_sliders = {f'Parameter_{i}': widgets.FloatSlider(value=0, min=-100, max=100, step=1, description=f'Parameter {i}')\n",
    "                 for i in range(NUM_PARAMETERS)}\n",
    "\n",
    "widgets.interact_manual(update_zernike_parameters, **param_sliders)\n"
   ]
  },
  {
   "cell_type": "markdown",
   "metadata": {},
   "source": [
    "## II. Quality analysis method"
   ]
  },
  {
   "cell_type": "markdown",
   "metadata": {},
   "source": [
    "### a. intensity ratio method"
   ]
  },
  {
   "cell_type": "markdown",
   "metadata": {},
   "source": [
    "Circle the centroid of beam and then calculate the ratio of  total intensity inside the circle and the total intensity outside the circle.\n",
    "\n",
    "We need to find the best score of our perfect beam generated with all zero Zernike parameters then do the normalisation to make all scores to have values from  0-1. \n",
    "\n",
    "In this Zernike generator, our best ratio for perfect beam is 0.026351564288334666 with radius=1 circle."
   ]
  },
  {
   "cell_type": "code",
   "execution_count": 41,
   "metadata": {},
   "outputs": [
    {
     "data": {
      "image/png": "[encoded data removed]",
      "text/plain": [
       "<Figure size 432x288 with 2 Axes>"
      ]
     },
     "metadata": {
      "needs_background": "light"
     },
     "output_type": "display_data"
    },
    {
     "name": "stdout",
     "output_type": "stream",
     "text": [
      "Parameters: [ 2.07267886 -2.70209845  9.25299173 -5.16886645  6.27182687 -0.14719382\n",
      " -6.99952257  7.00025948 -0.51241228 -2.42659896], Quality: 0.4797378344149873\n",
      "Parameters: [-1.94541342 -7.23407075 -1.61596058  2.96750506  5.2928594  -6.98467031\n",
      "  9.85504356 -7.40780328  8.31418581  4.59010886], Quality: 0.698972520466389\n",
      "Parameters: [ 6.97318551  2.97054029 -6.46884911  3.99939125  1.18280766  8.25837651\n",
      "  5.28810074  0.54745467 -6.75305892  2.63318452], Quality: 0.9703155150404282\n",
      "Parameters: [ 1.18278477  6.13385824 -4.68641402 -6.18981934 -2.90113339 -5.02320624\n",
      "  4.95429553  5.19717455 -1.29359795 -0.88193612], Quality: 0.9747275005412678\n",
      "Parameters: [-3.37435537  7.6272482  -0.56124324 -1.83184901 -2.10718937  8.30655951\n",
      " -3.94547335  7.11640663 -0.15734094  0.94344236], Quality: 0.7313907640359973\n",
      "Parameters: [ 5.97914759  9.22595262  0.65439369  7.99203693  0.83558882 -9.90115157\n",
      " -0.42787755  0.68944914 -0.27634588 -4.76119603], Quality: 0.9733151531386659\n",
      "Parameters: [-0.90929768  5.79029934 -8.12779325  9.06281313 -0.25491898  3.87712764\n",
      " -3.12825404  7.49031733 -8.02012311 -1.34254132], Quality: 0.9610152380885205\n",
      "Parameters: [ 6.62044442  1.5080117   6.3974814  -6.51039656 -2.92444093 -5.22022686\n",
      "  7.70189036 -8.01968788 -3.75962041 -8.3498584 ], Quality: 0.7022168861254883\n",
      "Parameters: [-3.18783546 -9.2381054   6.4821276   7.68584266 -5.58787585  0.82047702\n",
      " -8.73761352 -1.18466982 -8.89111087 -4.09897006], Quality: 0.7163423513979169\n",
      "Parameters: [-3.19145541  4.38164179  8.51392589  3.89617699 -7.10619353 -6.76775884\n",
      " -0.55237297 -3.90135504  3.29639995  6.51493435], Quality: 0.7278638846309382\n"
     ]
    }
   ],
   "source": [
    "import numpy as np\n",
    "from scipy.ndimage import center_of_mass\n",
    "\n",
    "# Step 1: Function to Generate Random Zernike Parameters\n",
    "def generate_random_parameters(num_parameters):\n",
    "    return np.random.uniform(low=-10, high=10, size=num_parameters) # low Zernike terms\n",
    "    # return np.random.uniform(low=-100, high=100, size=num_parameters) # high Zernike terms\n",
    "    # return np.zeros(num_parameters) #zero Zernike terms to get best ratio for perfect beam\n",
    "\n",
    "#Step 2: Function for Quality Analysis\n",
    "def analyze_quality(psf):\n",
    "    # Find the centroid of the PSF\n",
    "    y, x = center_of_mass(psf)\n",
    "\n",
    "    # Define a circle around the centroid\n",
    "    radius = 1  # You can adjust the radius as needed\n",
    "    yy, xx = np.ogrid[:psf.shape[0], :psf.shape[1]]\n",
    "    circle = (yy - y)**2 + (xx - x)**2 <= radius**2\n",
    "\n",
    "    # Calculate the total intensity inside and outside the circle\n",
    "    total_intensity_inside = np.sum(psf[circle])\n",
    "    total_intensity_outside = np.sum(psf[~circle])\n",
    "\n",
    "    # Calculate the intensity ratio as a quality metric (normalized to [0, 1])\n",
    "    intensity_ratio = total_intensity_inside / (total_intensity_inside + total_intensity_outside)\n",
    "    intensity_ratio_normalised= intensity_ratio/0.026351564288334666 # Normalised to the intensity ratio of the perfect PSF\n",
    "    return intensity_ratio_normalised\n",
    "\n",
    "# Step 3: Loop Over Random Focal Spots\n",
    "NUM_RANDOM_SPOTS = 10  # Adjust the number of random spots as needed\n",
    "\n",
    "random_spot_results = []\n",
    "\n",
    "for _ in range(NUM_RANDOM_SPOTS):\n",
    "    # Generate random parameters\n",
    "    random_params = generate_random_parameters(NUM_PARAMETERS)\n",
    "\n",
    "    # Update Zernike parameters and display intermediate PSF\n",
    "    update_zernike_parameters(**{f'Parameter_{i}': param for i, param in enumerate(random_params)})\n",
    "\n",
    "    # Propagate the wavefront to the final stage and get PSF\n",
    "    osys_final = poppy.OpticalSystem()\n",
    "    circular_aperture = poppy.CircularAperture(radius=RADIUS)\n",
    "    osys_final.add_pupil(circular_aperture)\n",
    "    \n",
    "    thin_lens_pupil = poppy.ZernikeWFE(radius=RADIUS, coefficients=random_params*10**-9)\n",
    "    osys_final.add_pupil(thin_lens_pupil)\n",
    "    \n",
    "    osys_final.add_detector(pixelscale=PIXSCALE, fov_arcsec=FOV)\n",
    "    psf_final = osys_final.calc_psf(wavelength=WAVELENGTH)[0].data\n",
    "\n",
    "    # Perform quality analysis\n",
    "    quality_metric = analyze_quality(psf_final)\n",
    "\n",
    "    # Store the results\n",
    "    random_spot_results.append({'Parameters': random_params, 'Quality': quality_metric})\n",
    "\n",
    "# Print or further analyze the results\n",
    "for result in random_spot_results:\n",
    "    print(f\"Parameters: {result['Parameters']}, Quality: {result['Quality']}\")\n"
   ]
  },
  {
   "cell_type": "markdown",
   "metadata": {},
   "source": [
    "## III. Optimisation"
   ]
  },
  {
   "cell_type": "markdown",
   "metadata": {},
   "source": [
    "### 1. BO"
   ]
  },
  {
   "cell_type": "code",
   "execution_count": 53,
   "metadata": {},
   "outputs": [
    {
     "data": {
      "image/png": "[encoded data removed]",
      "text/plain": [
       "<Figure size 432x288 with 2 Axes>"
      ]
     },
     "metadata": {
      "needs_background": "light"
     },
     "output_type": "display_data"
    },
    {
     "name": "stdout",
     "output_type": "stream",
     "text": [
      "Best Parameters: [-43.61397341335965, -29.45948354057309, 41.78073776437935, -22.105496861356897, 19.417197771545915, -13.541360124650097, 28.190685078295928, -37.630831809250154, 16.543284651424443, -31.541850042091852]\n",
      "Best Quality: 0.31929388006416315\n"
     ]
    }
   ],
   "source": [
    "from skopt import gp_minimize\n",
    "from skopt.space import Real\n",
    "\n",
    "# Define the objective function\n",
    "def objective_function(params):\n",
    "    # Extract Zernike parameters\n",
    "    zernike_params = np.array(params)\n",
    "\n",
    "    # Update Zernike parameters and calculate PSF\n",
    "    update_zernike_parameters(**{f'Parameter_{i}': param for i, param in enumerate(zernike_params)})\n",
    "\n",
    "    # Propagate the wavefront to the final stage and get PSF\n",
    "    osys_final = poppy.OpticalSystem()\n",
    "    circular_aperture = poppy.CircularAperture(radius=RADIUS)\n",
    "    osys_final.add_pupil(circular_aperture)\n",
    "\n",
    "    thin_lens_pupil = poppy.ZernikeWFE(radius=RADIUS, coefficients=zernike_params*10**-9)\n",
    "    osys_final.add_pupil(thin_lens_pupil)\n",
    "\n",
    "    osys_final.add_detector(pixelscale=PIXSCALE, fov_arcsec=FOV)\n",
    "    psf_final = osys_final.calc_psf(wavelength=WAVELENGTH)[0].data\n",
    "\n",
    "    # Perform quality analysis\n",
    "    quality_metric = analyze_quality(psf_final)\n",
    "\n",
    "    return -quality_metric  # Negative because skopt performs minimization\n",
    "\n",
    "# Define the parameter space\n",
    "param_space = [Real(-100, 100, name=f'Parameter_{i}') for i in range(NUM_PARAMETERS)]\n",
    "\n",
    "\n",
    "\n",
    "# Run Bayesian optimization\n",
    "# Run Bayesian optimization without parallelization\n",
    "result = gp_minimize(objective_function, param_space, n_calls=50, random_state=42, n_jobs=1)\n",
    "\n",
    "\n",
    "# Print the best parameters and corresponding quality\n",
    "best_params = result.x\n",
    "best_quality = -result.fun  # Remember to negate the score because skopt performs minimization\n",
    "print(\"Best Parameters:\", best_params)\n",
    "print(\"Best Quality:\", best_quality)\n",
    "\n"
   ]
  },
  {
   "cell_type": "markdown",
   "metadata": {},
   "source": [
    "It works, now compare with random search with same initial parameters."
   ]
  },
  {
   "cell_type": "markdown",
   "metadata": {},
   "source": [
    "### 2. BO vs random search"
   ]
  },
  {
   "cell_type": "code",
   "execution_count": 98,
   "metadata": {},
   "outputs": [
    {
     "data": {
      "image/png": "[encoded data removed]",
      "text/plain": [
       "<Figure size 432x288 with 2 Axes>"
      ]
     },
     "metadata": {
      "needs_background": "light"
     },
     "output_type": "display_data"
    },
    {
     "name": "stdout",
     "output_type": "stream",
     "text": [
      "Iteration No: 250 ended. Search finished for the next optimal point.\n",
      "Time taken: 10.8377\n",
      "Function value obtained: -0.7485\n",
      "Current minimum: -0.9177\n"
     ]
    },
    {
     "data": {
      "application/vnd.plotly.v1+json": {
       "config": {
        "plotlyServerURL": "https://plot.ly"
       },
       "data": [
        {
         "error_y": {
          "array": [
           0,
           0.026402689473310075,
           0.040673556692861386,
           0.03266868369650057,
           0.01679748803521515,
           0.016116286941263366,
           0.007049568897798856,
           0.06444641054052447,
           0.044268495261038,
           0.04022071345414039,
           0.017842785183046033,
           0.0383809315745979,
           0.038647198260692135,
           0.025208849647211665,
           0.010340859944643028,
           0.0415455641722055,
           0.05558525426289229,
           0.03697367125973309,
           0.053208926132140566,
           0.015481390549219612,
           0.14081470525862963,
           0.056018986728542663,
           0.03122094161989563,
           0.021524951397249064,
           0.026195930037574897,
           0.018425195024208054,
           0.027729867242342568,
           0.060493007444230126,
           0.06088049791664516,
           0.06796106339969124,
           0.09490603825303719,
           0.05440058438596313,
           0.047581072496806244,
           0.026660654523239822,
           0.1013028100216271,
           0.03878557616902464,
           0.11452346075754452,
           0.03812267328209665,
           0.11259501863688452,
           0.12221584094601654,
           0.04551093810798855,
           0.08171256415090865,
           0.09585154906111154,
           0.11858055917506505,
           0.11178011032449854,
           0.06687846381766684,
           0.05997897901865546,
           0.11524598753140342,
           0.1367623745841835,
           0.17783908361468972,
           0.10167998969110537,
           0.10752254918455698,
           0.1403412824686838,
           0.20337040634928966,
           0.11994188997571584,
           0.2068279643142083,
           0.2758628273133146,
           0.08957858155149975,
           0.09180908830030836,
           0.09326249722917855,
           0.26722079873820737,
           0.17169037257759243,
           0.2156044465896057,
           0.20206657200423303,
           0.17230628172415602,
           0.2691097548814257,
           0.15428604621566186,
           0.1278141244174506,
           0.3251863023972602,
           0.28621270982005553,
           0.32035643579731155,
           0.20345060849351787,
           0.16510877724334372,
           0.17908719994421402,
           0.1282211438273144,
           0.2711409603431232,
           0.12865239182721414,
           0.17340069385204532,
           0.2651262888739222,
           0.21977852819027865,
           0.25901189277571596,
           0.21528636881787452,
           0.20334399129080624,
           0.16776525411547286,
           0.04850321647995797,
           0.05837186347588022,
           0.12630546877864537,
           0.2341671685473954,
           0.24517617114767706,
           0.26248767943178714,
           0.17303389283441242,
           0.0910269793720188,
           0.17140115664040376,
           0.18240514861310567,
           0.16470635728684138,
           0.3563422584903658,
           0.2230003569441443,
           0.08809570315533533,
           0.10306459693491354,
           0.13549609935420345,
           0.10644374606353588,
           0.27576115982999766,
           0.19143637986039078,
           0.09064984844835097,
           0.19198506335620294,
           0.2985630604185532,
           0.1383119748707024,
           0.16232980096227437,
           0.06566123948321743,
           0.25483539063216437,
           0.17197141789763942,
           0.07742533636519598,
           0.29750296656969233,
           0.2310500512784621,
           0.2941149106348958,
           0.30883880780885004,
           0.15117127675330658,
           0.14588723083218166,
           0.0587822736197521,
           0.14868758423658807,
           0.10618638508526572,
           0.17280531470107896,
           0.1808488387021064,
           0.18321692295556294,
           0.21280066201174372,
           0.19287712440209126,
           0.10941457868154994,
           0.2535793714065585,
           0.12092709679797987,
           0.1053752933353015,
           0.13026200958644138,
           0.15517266293827517,
           0.28874720240483254,
           0.19931193188810278,
           0.20385022680331846,
           0.11394523139504092,
           0.09663201464326482,
           0.07916464509661313,
           0.14243340953890388,
           0.24482624122435673,
           0.1770506202832105,
           0.08703781638121595,
           0.16058419495150886,
           0.19808356328379909,
           0.07684729555840299,
           0.06389692820243174,
           0.05431808677010847,
           0.07960283146444588,
           0.14438769704715865,
           0.12952466260709652,
           0.12975505353052239,
           0.15794934872962443,
           0.14052520079117534,
           0.05203236950913069,
           0.05411160104834727,
           0.27057660868529687,
           0.1257706367606424,
           0.2427215634247937,
           0.09055090270190534,
           0.10417828740275813,
           0.1419989284194906,
           0.19973884455191798,
           0.17755540247291282,
           0.05484707944836433,
           0.23947237043411207,
           0.1146908570800803,
           0.14501947104841076,
           0.13968239764581983,
           0.09394381076370258,
           0.07182572681889474,
           0.15007044098269479,
           0.07779845635344552,
           0.05619440776959706,
           0.26475346595602595,
           0.06732888649579921,
           0.16897217695078748,
           0.06247457108440937,
           0.05790248266465835,
           0.29123696992777454,
           0.11004538224925052,
           0.1323077388370755,
           0.07712580335394896,
           0.05468933613092644,
           0.22967457912168762,
           0.11007847260979924,
           0.1259252403654718,
           0.1824692120506146,
           0.09773390683866771,
           0.12481943022124765,
           0.2965611793817133,
           0.16489296521312963,
           0.11124484555777496,
           0.07459125064712994,
           0.06515524458659548,
           0.17312515163977815,
           0.1024007981112297,
           0.2666964971033906,
           0.12838143842337998,
           0.31538424106741214,
           0.18677692389877892,
           0.1341691862676132,
           0.2161909025535521,
           0.23815940296432433,
           0.3415246753604713,
           0.1926173918911669,
           0.24265482327576754,
           0.04311678580318248,
           0.03557256520319046,
           0.07694213526923568,
           0.2709180878863697,
           0.0871863571090607,
           0.19349882534333426,
           0.08486501106710216,
           0.0843259469556637,
           0.11098571426771081,
           0.16406182128882613,
           0.10802981606027112,
           0.14546148905107703,
           0.28426032064737317,
           0.15328212435317162,
           0.36172957335624917,
           0.29144988202194094,
           0.3205537372116517,
           0.12980080258529814,
           0.03716627363361993,
           0.16609216078018674,
           0.20549319102913174,
           0.1760476645595377,
           0.29613192023222906,
           0.23093724901024837,
           0.10321347291284352,
           0.10760741013239476,
           0.16109701656299083,
           0.18279313660245394,
           0.07742742245381676,
           0.08688181734290625,
           0.33957111918289334,
           0.16195179831122825,
           0.04828223448845224,
           0.14275985927259,
           0.13600221130251133,
           0.08767140277680437,
           0.26483075322601035,
           0.07064896522908354,
           0.1758957492774393,
           0.08185762558607682,
           0.08834900925669845,
           0.12978629195887018,
           0.12521584674747782,
           0.0869387356720529
          ],
          "type": "data",
          "visible": true
         },
         "mode": "lines+markers",
         "name": "Bayesian Optimization",
         "type": "scatter",
         "x": [
          1,
          2,
          3,
          4,
          5,
          6,
          7,
          8,
          9,
          10,
          11,
          12,
          13,
          14,
          15,
          16,
          17,
          18,
          19,
          20,
          21,
          22,
          23,
          24,
          25,
          26,
          27,
          28,
          29,
          30,
          31,
          32,
          33,
          34,
          35,
          36,
          37,
          38,
          39,
          40,
          41,
          42,
          43,
          44,
          45,
          46,
          47,
          48,
          49,
          50,
          51,
          52,
          53,
          54,
          55,
          56,
          57,
          58,
          59,
          60,
          61,
          62,
          63,
          64,
          65,
          66,
          67,
          68,
          69,
          70,
          71,
          72,
          73,
          74,
          75,
          76,
          77,
          78,
          79,
          80,
          81,
          82,
          83,
          84,
          85,
          86,
          87,
          88,
          89,
          90,
          91,
          92,
          93,
          94,
          95,
          96,
          97,
          98,
          99,
          100,
          101,
          102,
          103,
          104,
          105,
          106,
          107,
          108,
          109,
          110,
          111,
          112,
          113,
          114,
          115,
          116,
          117,
          118,
          119,
          120,
          121,
          122,
          123,
          124,
          125,
          126,
          127,
          128,
          129,
          130,
          131,
          132,
          133,
          134,
          135,
          136,
          137,
          138,
          139,
          140,
          141,
          142,
          143,
          144,
          145,
          146,
          147,
          148,
          149,
          150,
          151,
          152,
          153,
          154,
          155,
          156,
          157,
          158,
          159,
          160,
          161,
          162,
          163,
          164,
          165,
          166,
          167,
          168,
          169,
          170,
          171,
          172,
          173,
          174,
          175,
          176,
          177,
          178,
          179,
          180,
          181,
          182,
          183,
          184,
          185,
          186,
          187,
          188,
          189,
          190,
          191,
          192,
          193,
          194,
          195,
          196,
          197,
          198,
          199,
          200,
          201,
          202,
          203,
          204,
          205,
          206,
          207,
          208,
          209,
          210,
          211,
          212,
          213,
          214,
          215,
          216,
          217,
          218,
          219,
          220,
          221,
          222,
          223,
          224,
          225,
          226,
          227,
          228,
          229,
          230,
          231,
          232,
          233,
          234,
          235,
          236,
          237,
          238,
          239,
          240,
          241,
          242,
          243,
          244,
          245,
          246,
          247,
          248,
          249,
          250
         ],
         "y": [
          0.01093350223258349,
          0.021534172967614763,
          0.03692147979464079,
          0.03075206089676503,
          0.020380790995709074,
          0.029976380149140926,
          0.018772151916542162,
          0.058580082053644664,
          0.0422292831928788,
          0.03154731022615599,
          0.06523332263619548,
          0.04239240057623657,
          0.05827015089620541,
          0.03576019577501792,
          0.012669549955653194,
          0.048293352135259496,
          0.06454326564386911,
          0.06458168914033637,
          0.05848249330991623,
          0.017485263443100894,
          0.10348199106594842,
          0.07167353069976108,
          0.06961444584960705,
          0.04824319052049616,
          0.02569283828031701,
          0.031296603433326374,
          0.04572850484516809,
          0.06818443200185599,
          0.057971876575417025,
          0.07112207202349241,
          0.07590455197790404,
          0.07753278510689655,
          0.05555972453117512,
          0.046401678780224685,
          0.12008829953078821,
          0.09933354528561185,
          0.16694596802062805,
          0.08019926814299529,
          0.1187302413326228,
          0.14678609457528863,
          0.16375845023439198,
          0.09613268387761084,
          0.22256248877684454,
          0.18041591434387147,
          0.22051921210516223,
          0.13957898131856952,
          0.11661585743126571,
          0.16489637147893124,
          0.1860476799950554,
          0.18236410478888215,
          0.14886431752689994,
          0.1310505360414142,
          0.16678175361952113,
          0.2419122306707818,
          0.16701573476013237,
          0.3017680249433937,
          0.24821268070679628,
          0.08115043262633433,
          0.12266472313004877,
          0.24351797457700966,
          0.264960299553852,
          0.17814978889580557,
          0.2325087858192409,
          0.21468459192502265,
          0.24772962685881664,
          0.2015610041008499,
          0.21391471066471887,
          0.1355656178925566,
          0.37433109526248715,
          0.29485656637489094,
          0.23415309618443025,
          0.25801457020528434,
          0.3988773584273146,
          0.3912746736095367,
          0.32182225869096376,
          0.39743539720408977,
          0.3071163356361635,
          0.355907076494092,
          0.335553362404975,
          0.28533169604051434,
          0.39809298223723466,
          0.496606991397717,
          0.49593064729658787,
          0.544565343318643,
          0.6450524863902528,
          0.45649113208451986,
          0.49476147800550585,
          0.5142671301563988,
          0.48368156319472044,
          0.5098380944980994,
          0.7081720328276602,
          0.7818461882721656,
          0.669645728554382,
          0.6065045777354563,
          0.7131754555097628,
          0.5004877625580895,
          0.5837136844351687,
          0.5190700342280865,
          0.6332806110136816,
          0.6194784089955079,
          0.7821730013947727,
          0.4698792333548745,
          0.6616128431432495,
          0.5658153431486733,
          0.47089627226468167,
          0.6083995193508733,
          0.7534969960364876,
          0.7874587551661734,
          0.6713896528874809,
          0.6163812409260113,
          0.5829156985761677,
          0.8447240630595514,
          0.6367374646936937,
          0.5779085284172382,
          0.5831908802352883,
          0.623773700399919,
          0.7059342552611425,
          0.702386031316012,
          0.7546983140956465,
          0.6143281247252543,
          0.7711930065837127,
          0.6784209095028975,
          0.666312616409472,
          0.6511957643691211,
          0.5797529122524022,
          0.455246629960622,
          0.6300301613655681,
          0.6277007573698464,
          0.6399321353866168,
          0.688847661538102,
          0.6941311593210143,
          0.6922745771903738,
          0.6126003829269918,
          0.5390878819907259,
          0.6477966387775316,
          0.7280710016869331,
          0.6970512892066915,
          0.7050259391795692,
          0.5914361960648228,
          0.4796752655635528,
          0.7702599487164326,
          0.7322779740161743,
          0.690976786522955,
          0.6566682134818732,
          0.7424826059285489,
          0.7415097301760972,
          0.6921767470845347,
          0.7328343348321862,
          0.6717340738946059,
          0.6507878116793006,
          0.6711603947283203,
          0.6870526796194945,
          0.7207922714355107,
          0.7100404875943371,
          0.6979294175862647,
          0.5329652075923829,
          0.6795108204692529,
          0.4247651414687493,
          0.5903201350060827,
          0.6116727527548106,
          0.6598602692274369,
          0.5842839736730052,
          0.6529844303702947,
          0.7656507332263185,
          0.5070995867002035,
          0.6458703207349086,
          0.6123065598202154,
          0.6859128193806945,
          0.7357283050909411,
          0.674334369202086,
          0.6960457272098695,
          0.7503661392669114,
          0.8184439636284704,
          0.5419344218870735,
          0.763585746067414,
          0.5797368973984315,
          0.7374488619939953,
          0.7497918518264871,
          0.5917455457532829,
          0.7559014105941396,
          0.6628346199218385,
          0.6533529486332089,
          0.6668678585705373,
          0.5169128354125276,
          0.6211936964255604,
          0.6500454615049829,
          0.69498460381117,
          0.6910191044843382,
          0.62532508288127,
          0.6008842851640483,
          0.6879592441292456,
          0.7530988454375435,
          0.781721478818853,
          0.7679835668915984,
          0.5946813283629468,
          0.7346666092030156,
          0.5312549217187614,
          0.43198255177008316,
          0.4516167389706675,
          0.6853823903230923,
          0.7271719368665766,
          0.49028093464661293,
          0.674337484105756,
          0.6937974551509469,
          0.6498373037740854,
          0.6308675233234682,
          0.7020533774896627,
          0.7010947280076704,
          0.8190176039559395,
          0.5443982290527128,
          0.7054593823204887,
          0.7049205098859864,
          0.7264423340721606,
          0.7330792806453605,
          0.7502812593349713,
          0.7023451277549879,
          0.7859139076543666,
          0.6590913977043302,
          0.593827393018661,
          0.6725299366727737,
          0.6044955766010001,
          0.6016244327356032,
          0.6802731640682005,
          0.6884459508930884,
          0.682356947034419,
          0.7257271596175461,
          0.5971694189099012,
          0.7055331033658938,
          0.6067107764974363,
          0.6519093046091256,
          0.7957663570724731,
          0.7363052296740923,
          0.7276965744688904,
          0.7686560313025884,
          0.7289308325626764,
          0.8153767462555995,
          0.6792395934734374,
          0.714440327688022,
          0.838862741837171,
          0.7558521538964349,
          0.5663874188083037,
          0.714176593681245,
          0.5601652529822913,
          0.7118559639092258,
          0.6674359057773461,
          0.7552337759252623,
          0.7395778601159781,
          0.7977068973550507,
          0.666552196778506,
          0.7820655164747107
         ]
        },
        {
         "error_y": {
          "array": [
           0,
           0.02126663211992537,
           0.04031496499985016,
           0.021823631910614365,
           0.014419679150588954,
           0.011647464100571712,
           0.06758481317636436,
           0.03324131423636579,
           0.022808453806782467,
           0.050973555759984496,
           0.022008322857630266,
           0.023834836611956386,
           0.01227390159052172,
           0.0366234808467566,
           0.03160946577723585,
           0.03067860757142839,
           0.016275081594095284,
           0.031168680244148823,
           0.023020989121408316,
           0.04571558554139758,
           0.06651353075275922,
           0.037643909940820626,
           0.01773679788195995,
           0.019006930324722875,
           0.014501364283964344,
           0.02664007592520472,
           0.09405267421513623,
           0.08149967299694477,
           0.07209965268010288,
           0.047579362904749185,
           0.12715350388473246,
           0.059779142966925894,
           0.05328103194307768,
           0.03460023138344632,
           0.04509169482616687,
           0.06392328761238004,
           0.007716861728688537,
           0.048920658772256924,
           0.0416911682292246,
           0.0765359936074377,
           0.110282016751898,
           0.07277125148927623,
           0.07079593530195583,
           0.04643387124333966,
           0.08448580371267381,
           0.07233759253487401,
           0.06257404018063528,
           0.049666213208867244,
           0.07920310482698338,
           0.08270626631950181,
           0.047077379363724206,
           0.12634688407143885,
           0.07705229130696303,
           0.15377661472719134,
           0.06752968114866417,
           0.03004701045344094,
           0.11960963642893593,
           0.07108651536378131,
           0.07038069794367573,
           0.05810314131304293,
           0.027990765032683707,
           0.2339858131629724,
           0.044929139696908996,
           0.034609016258886974,
           0.023986505027417438,
           0.08271156170968297,
           0.21475938390346658,
           0.10128122454022977,
           0.030097218518104412,
           0.13304034423533992,
           0.1193489065526877,
           0.07530321178985959,
           0.3383537271576453,
           0.07243758224731013,
           0.042630837743639884,
           0.08242787816985908,
           0.2292563027942654,
           0.05556796899829548,
           0.22481221868809506,
           0.10076527857061188,
           0.22999388706417653,
           0.25195030663961926,
           0.20215804853814875,
           0.3004884679703547,
           0.19712750725190184,
           0.21537422252398394,
           0.2913134135832697,
           0.042444247379754704,
           0.2616338963885296,
           0.14935738757887507,
           0.22597805036358468,
           0.07616986121571703,
           0.21521435093235045,
           0.2321841214368999,
           0.2008400641570138,
           0.20155439764409316,
           0.20010846019431786,
           0.22274937376508627,
           0.22411863826105524,
           0.21129793754138865,
           0.19236578001717963,
           0.2142435230721603,
           0.144880380674825,
           0.1939022425362348,
           0.20300216554817285,
           0.19515305602708774,
           0.20578959804955949,
           0.3036463096569186,
           0.20841827898750995,
           0.24465117271829842,
           0.3216225117505057,
           0.19234610522065784,
           0.22704968025772734,
           0.12258229841115417,
           0.16556465700918369,
           0.1797303132030046,
           0.2584462431467959,
           0.12068741897244754,
           0.2204632631653271,
           0.34815121921599373,
           0.25134096012674223,
           0.22241411782270334,
           0.30548066576863164,
           0.2117493873983693,
           0.2130143110631079,
           0.2929196089627018,
           0.16473027706507493,
           0.22326415089653737,
           0.10415463836245177,
           0.33209590161094404,
           0.2819015388872113,
           0.26117856625023217,
           0.2438773117399015,
           0.2530447794166516,
           0.23992899168084678,
           0.2487355697964509,
           0.21217133354732617,
           0.24431118682713565,
           0.2223528601669026,
           0.25954322097002736,
           0.2781140628739861,
           0.30606592618088196,
           0.26000832802642637,
           0.26482026289629146,
           0.2172544837548205,
           0.2954648520804124,
           0.2412869780894918,
           0.22662731851096854,
           0.24606386472222003,
           0.27713001843360696,
           0.20787414931099316,
           0.224611883079627,
           0.22903666678022652,
           0.2913226866854336,
           0.17759115362681174,
           0.20973919848070544,
           0.23106082976480197,
           0.2485919161415717,
           0.23222653757583006,
           0.22946538951779025,
           0.3025725709236516,
           0.22294110032114903,
           0.2488482155411128,
           0.30089137453996295,
           0.22440165392340025,
           0.307289503839617,
           0.2514286082681321,
           0.2791160309848821,
           0.2461069427234045,
           0.3005468136470628,
           0.2636165658167997,
           0.20156076614704924,
           0.2896285625609999,
           0.23785227354802718,
           0.2927228402250888,
           0.22048634871008094,
           0.2606999336188246,
           0.18486987166355837,
           0.20819495137963875,
           0.34975552501501095,
           0.2997361201323504,
           0.39887526763617054,
           0.32155849820329097,
           0.27989495291808175,
           0.2976060064140445,
           0.30746970935687284,
           0.24040880833959058,
           0.29774424273198924,
           0.3313338513055772,
           0.26814742893362364,
           0.2465798152840577,
           0.24317182276354843,
           0.22744801532898523,
           0.22882842954682855,
           0.24946513807061377,
           0.25201440678345033,
           0.26559380084531553,
           0.30023572926665865,
           0.30128997452725664,
           0.3498233803456179,
           0.3018061338660016,
           0.24340731921436742,
           0.28286981760163715,
           0.22460621053987503,
           0.2704912205746241,
           0.24394023783541607,
           0.24294912245341424,
           0.28749620946121074,
           0.2994414368617695,
           0.2569444132448354,
           0.3020992128037838,
           0.27786871744576025,
           0.3424972876980241,
           0.2439681109467419,
           0.29951814872308175,
           0.2721166263815432,
           0.26950896563959637,
           0.2645454959789433,
           0.3007565832240742,
           0.27616497519977845,
           0.29359030308442574,
           0.3030678615822324,
           0.2607557599612074,
           0.25843205677243625,
           0.28059309117159736,
           0.3561264248199852,
           0.2959759384591431,
           0.36168173566271483,
           0.32784723435343194,
           0.25026849025310316,
           0.2597388688581446,
           0.3070471947814433,
           0.29059916875321445,
           0.2548976279371288,
           0.20282043677567285,
           0.3258803503849189,
           0.3255595419606895,
           0.3400299977588547,
           0.29593780076691256,
           0.29654566668700666,
           0.3298694102737619,
           0.3340844173818253,
           0.2924533565741905,
           0.3370655032696856,
           0.3074859757431224,
           0.27601470615030993,
           0.27624293105628733,
           0.3220069201386452,
           0.321785527414806,
           0.2786084686127265
          ],
          "type": "data",
          "visible": true
         },
         "mode": "lines+markers",
         "name": "Random Search",
         "type": "scatter",
         "x": [
          1,
          2,
          3,
          4,
          5,
          6,
          7,
          8,
          9,
          10,
          11,
          12,
          13,
          14,
          15,
          16,
          17,
          18,
          19,
          20,
          21,
          22,
          23,
          24,
          25,
          26,
          27,
          28,
          29,
          30,
          31,
          32,
          33,
          34,
          35,
          36,
          37,
          38,
          39,
          40,
          41,
          42,
          43,
          44,
          45,
          46,
          47,
          48,
          49,
          50,
          51,
          52,
          53,
          54,
          55,
          56,
          57,
          58,
          59,
          60,
          61,
          62,
          63,
          64,
          65,
          66,
          67,
          68,
          69,
          70,
          71,
          72,
          73,
          74,
          75,
          76,
          77,
          78,
          79,
          80,
          81,
          82,
          83,
          84,
          85,
          86,
          87,
          88,
          89,
          90,
          91,
          92,
          93,
          94,
          95,
          96,
          97,
          98,
          99,
          100,
          101,
          102,
          103,
          104,
          105,
          106,
          107,
          108,
          109,
          110,
          111,
          112,
          113,
          114,
          115,
          116,
          117,
          118,
          119,
          120,
          121,
          122,
          123,
          124,
          125,
          126,
          127,
          128,
          129,
          130,
          131,
          132,
          133,
          134,
          135,
          136,
          137,
          138,
          139,
          140,
          141,
          142,
          143,
          144,
          145,
          146,
          147,
          148,
          149,
          150,
          151,
          152,
          153,
          154,
          155,
          156,
          157,
          158,
          159,
          160,
          161,
          162,
          163,
          164,
          165,
          166,
          167,
          168,
          169,
          170,
          171,
          172,
          173,
          174,
          175,
          176,
          177,
          178,
          179,
          180,
          181,
          182,
          183,
          184,
          185,
          186,
          187,
          188,
          189,
          190,
          191,
          192,
          193,
          194,
          195,
          196,
          197,
          198,
          199,
          200,
          201,
          202,
          203,
          204,
          205,
          206,
          207,
          208,
          209,
          210,
          211,
          212,
          213,
          214,
          215,
          216,
          217,
          218,
          219,
          220,
          221,
          222,
          223,
          224,
          225,
          226,
          227,
          228,
          229,
          230,
          231,
          232,
          233,
          234,
          235,
          236,
          237,
          238,
          239,
          240,
          241,
          242,
          243,
          244,
          245,
          246,
          247,
          248,
          249,
          250
         ],
         "y": [
          0.01093350223258349,
          0.05501727350785888,
          0.060406822459439805,
          0.02780018865134968,
          0.02182788870640832,
          0.028115581220708463,
          0.08293683039872646,
          0.0338091969480511,
          0.030478892660245754,
          0.04624136103352518,
          0.03289038690040404,
          0.04820025346482616,
          0.013258436153679559,
          0.04071775150863981,
          0.05908265687005922,
          0.0522578891728547,
          0.021719197491453186,
          0.04217936033929477,
          0.01714772249339847,
          0.06797712990243986,
          0.04607080725547577,
          0.03851815766103228,
          0.03282573852554972,
          0.03979833367897725,
          0.027999206966714485,
          0.03027397979619565,
          0.11617252746844764,
          0.07645152764202133,
          0.1107728250717626,
          0.04578449391149937,
          0.08554803911058144,
          0.09624493027461907,
          0.05917304236595864,
          0.07735727525165775,
          0.0855464554237666,
          0.07506337482460461,
          0.05860360473213343,
          0.09809408520151133,
          0.11211413799222739,
          0.11712790926817643,
          0.11616331265838334,
          0.09427653906223461,
          0.11457520853777084,
          0.13636843631805146,
          0.1492141661260915,
          0.1692815842522129,
          0.17557928225934774,
          0.1353775634538817,
          0.13788052390285693,
          0.09069600002894682,
          0.10641596441773919,
          0.1591792568043779,
          0.19537142068912677,
          0.20427255405957254,
          0.07563644314218691,
          0.03427102014893115,
          0.14054689141657034,
          0.08483061872594155,
          0.1284704782382621,
          0.09316425626507116,
          0.15689363822703342,
          0.23760193436380997,
          0.06345674370021943,
          0.10361816785826224,
          0.1235061179247299,
          0.1229109699622662,
          0.15677825779444723,
          0.1712474511259363,
          0.1375842990746664,
          0.1648812185628364,
          0.15437268719454306,
          0.06506736385425974,
          0.24500565746884603,
          0.100758160125199,
          0.07628674840698707,
          0.15598298116148773,
          0.23918196963471586,
          0.13617377565623326,
          0.2355422408769441,
          0.2035200551346287,
          0.22898053392993,
          0.20182522807257613,
          0.27165739721803683,
          0.28926043743860086,
          0.18789563079315197,
          0.20181118814765303,
          0.25865447169479555,
          0.08293948844822759,
          0.20379864075153917,
          0.17444082593097643,
          0.20675842087146928,
          0.09939991168718866,
          0.2353302630853884,
          0.21787905778208544,
          0.2473866160109676,
          0.2590584616869492,
          0.25218205296161816,
          0.2098881295517713,
          0.20821728825293645,
          0.23502917802282405,
          0.29292496953076597,
          0.2462247005135752,
          0.16482882361723614,
          0.20130630144931888,
          0.22726078212748604,
          0.2750656141950797,
          0.22456907112158175,
          0.34207122416196567,
          0.2716900551053466,
          0.33833574034988423,
          0.36328231110324954,
          0.29836235270998246,
          0.3021767082620202,
          0.2845646460909113,
          0.2571567270069381,
          0.28696069218232106,
          0.3485793075236735,
          0.19223019314950207,
          0.3467115627183669,
          0.41608747376196475,
          0.31766686701036856,
          0.2987377829976735,
          0.36606578867349293,
          0.3420539296300153,
          0.3386786060553203,
          0.35733130140658476,
          0.275422611210767,
          0.3397566873438104,
          0.18329855487363927,
          0.4565643262234472,
          0.3740379981356855,
          0.3788883355190295,
          0.38742919153909616,
          0.3750472333978021,
          0.3862810048956707,
          0.3733507347897347,
          0.3444796139664632,
          0.364463818535466,
          0.32310730442018604,
          0.3796327213092602,
          0.3599770298665592,
          0.3776717801171604,
          0.37038126870471316,
          0.398800216683224,
          0.337603135986591,
          0.37969170385002926,
          0.3379605161154346,
          0.3551840524309523,
          0.36464201547121294,
          0.37483355256799,
          0.3591852012800979,
          0.32482466464205456,
          0.36225926361904914,
          0.405303664493061,
          0.3221674677424395,
          0.351765741002377,
          0.3867704582437097,
          0.3660086739861398,
          0.3870283097943368,
          0.3754397827441116,
          0.4068311963476954,
          0.3802761042256978,
          0.35975184146563705,
          0.4018733256604519,
          0.37983781639999725,
          0.396105177185252,
          0.33894846092158365,
          0.42786518451068345,
          0.34389768259657366,
          0.4037018133096265,
          0.3685922666832505,
          0.31300432698340164,
          0.40150489670264744,
          0.3541649980752782,
          0.4139736681928531,
          0.23866166157294222,
          0.3371378246511071,
          0.3375210773383208,
          0.3017707201231102,
          0.4195683525129093,
          0.44015486665221726,
          0.4252644800441635,
          0.32917535433106676,
          0.47246172616693427,
          0.3990304768929289,
          0.5013181238393826,
          0.3779668046018499,
          0.49279767865553004,
          0.5221647222922841,
          0.47086654784215,
          0.4634195337496868,
          0.401985939308493,
          0.35903431006693143,
          0.40821507308998795,
          0.49955524598892864,
          0.5028326854859503,
          0.4638798108924628,
          0.5260439515702544,
          0.5019297869391925,
          0.41207762894514577,
          0.5078813616322226,
          0.39963079784000255,
          0.4842022936916748,
          0.4315183457515368,
          0.5104372775244583,
          0.46713885148266926,
          0.3833595351178272,
          0.4813408489790906,
          0.4578417587764392,
          0.4875025983700613,
          0.48881322682074957,
          0.4836911254540702,
          0.5628205594041059,
          0.4934242320795688,
          0.5139821007997092,
          0.534219001810286,
          0.47195278061537127,
          0.33078547228191313,
          0.37033443792006393,
          0.4005039920866612,
          0.5338646285299251,
          0.522545938581571,
          0.4320831059669322,
          0.4371152114859231,
          0.5424227167590756,
          0.5574857884024472,
          0.5131262599939539,
          0.5574100451460577,
          0.5251593281445086,
          0.4510435109735087,
          0.4649863143639186,
          0.46668538643016566,
          0.554100135263679,
          0.5088631516839369,
          0.42338846624000936,
          0.3278716448348676,
          0.5952939205539982,
          0.5813445344700492,
          0.5429907249767554,
          0.5277914030608863,
          0.5729208460328348,
          0.37691270315414616,
          0.5362639948473035,
          0.5636467468064108,
          0.5796890973913013,
          0.5315307795027593,
          0.5346682287848945,
          0.5640359510359344,
          0.5614572912180689,
          0.5267700102524862
         ]
        }
       ],
       "layout": {
        "showlegend": true,
        "template": {
         "data": {
          "bar": [
           {
            "error_x": {
             "color": "#2a3f5f"
            },
            "error_y": {
             "color": "#2a3f5f"
            },
            "marker": {
             "line": {
              "color": "#E5ECF6",
              "width": 0.5
             },
             "pattern": {
              "fillmode": "overlay",
              "size": 10,
              "solidity": 0.2
             }
            },
            "type": "bar"
           }
          ],
          "barpolar": [
           {
            "marker": {
             "line": {
              "color": "#E5ECF6",
              "width": 0.5
             },
             "pattern": {
              "fillmode": "overlay",
              "size": 10,
              "solidity": 0.2
             }
            },
            "type": "barpolar"
           }
          ],
          "carpet": [
           {
            "aaxis": {
             "endlinecolor": "#2a3f5f",
             "gridcolor": "white",
             "linecolor": "white",
             "minorgridcolor": "white",
             "startlinecolor": "#2a3f5f"
            },
            "baxis": {
             "endlinecolor": "#2a3f5f",
             "gridcolor": "white",
             "linecolor": "white",
             "minorgridcolor": "white",
             "startlinecolor": "#2a3f5f"
            },
            "type": "carpet"
           }
          ],
          "choropleth": [
           {
            "colorbar": {
             "outlinewidth": 0,
             "ticks": ""
            },
            "type": "choropleth"
           }
          ],
          "contour": [
           {
            "colorbar": {
             "outlinewidth": 0,
             "ticks": ""
            },
            "colorscale": [
             [
              0,
              "#0d0887"
             ],
             [
              0.1111111111111111,
              "#46039f"
             ],
             [
              0.2222222222222222,
              "#7201a8"
             ],
             [
              0.3333333333333333,
              "#9c179e"
             ],
             [
              0.4444444444444444,
              "#bd3786"
             ],
             [
              0.5555555555555556,
              "#d8576b"
             ],
             [
              0.6666666666666666,
              "#ed7953"
             ],
             [
              0.7777777777777778,
              "#fb9f3a"
             ],
             [
              0.8888888888888888,
              "#fdca26"
             ],
             [
              1,
              "#f0f921"
             ]
            ],
            "type": "contour"
           }
          ],
          "contourcarpet": [
           {
            "colorbar": {
             "outlinewidth": 0,
             "ticks": ""
            },
            "type": "contourcarpet"
           }
          ],
          "heatmap": [
           {
            "colorbar": {
             "outlinewidth": 0,
             "ticks": ""
            },
            "colorscale": [
             [
              0,
              "#0d0887"
             ],
             [
              0.1111111111111111,
              "#46039f"
             ],
             [
              0.2222222222222222,
              "#7201a8"
             ],
             [
              0.3333333333333333,
              "#9c179e"
             ],
             [
              0.4444444444444444,
              "#bd3786"
             ],
             [
              0.5555555555555556,
              "#d8576b"
             ],
             [
              0.6666666666666666,
              "#ed7953"
             ],
             [
              0.7777777777777778,
              "#fb9f3a"
             ],
             [
              0.8888888888888888,
              "#fdca26"
             ],
             [
              1,
              "#f0f921"
             ]
            ],
            "type": "heatmap"
           }
          ],
          "heatmapgl": [
           {
            "colorbar": {
             "outlinewidth": 0,
             "ticks": ""
            },
            "colorscale": [
             [
              0,
              "#0d0887"
             ],
             [
              0.1111111111111111,
              "#46039f"
             ],
             [
              0.2222222222222222,
              "#7201a8"
             ],
             [
              0.3333333333333333,
              "#9c179e"
             ],
             [
              0.4444444444444444,
              "#bd3786"
             ],
             [
              0.5555555555555556,
              "#d8576b"
             ],
             [
              0.6666666666666666,
              "#ed7953"
             ],
             [
              0.7777777777777778,
              "#fb9f3a"
             ],
             [
              0.8888888888888888,
              "#fdca26"
             ],
             [
              1,
              "#f0f921"
             ]
            ],
            "type": "heatmapgl"
           }
          ],
          "histogram": [
           {
            "marker": {
             "pattern": {
              "fillmode": "overlay",
              "size": 10,
              "solidity": 0.2
             }
            },
            "type": "histogram"
           }
          ],
          "histogram2d": [
           {
            "colorbar": {
             "outlinewidth": 0,
             "ticks": ""
            },
            "colorscale": [
             [
              0,
              "#0d0887"
             ],
             [
              0.1111111111111111,
              "#46039f"
             ],
             [
              0.2222222222222222,
              "#7201a8"
             ],
             [
              0.3333333333333333,
              "#9c179e"
             ],
             [
              0.4444444444444444,
              "#bd3786"
             ],
             [
              0.5555555555555556,
              "#d8576b"
             ],
             [
              0.6666666666666666,
              "#ed7953"
             ],
             [
              0.7777777777777778,
              "#fb9f3a"
             ],
             [
              0.8888888888888888,
              "#fdca26"
             ],
             [
              1,
              "#f0f921"
             ]
            ],
            "type": "histogram2d"
           }
          ],
          "histogram2dcontour": [
           {
            "colorbar": {
             "outlinewidth": 0,
             "ticks": ""
            },
            "colorscale": [
             [
              0,
              "#0d0887"
             ],
             [
              0.1111111111111111,
              "#46039f"
             ],
             [
              0.2222222222222222,
              "#7201a8"
             ],
             [
              0.3333333333333333,
              "#9c179e"
             ],
             [
              0.4444444444444444,
              "#bd3786"
             ],
             [
              0.5555555555555556,
              "#d8576b"
             ],
             [
              0.6666666666666666,
              "#ed7953"
             ],
             [
              0.7777777777777778,
              "#fb9f3a"
             ],
             [
              0.8888888888888888,
              "#fdca26"
             ],
             [
              1,
              "#f0f921"
             ]
            ],
            "type": "histogram2dcontour"
           }
          ],
          "mesh3d": [
           {
            "colorbar": {
             "outlinewidth": 0,
             "ticks": ""
            },
            "type": "mesh3d"
           }
          ],
          "parcoords": [
           {
            "line": {
             "colorbar": {
              "outlinewidth": 0,
              "ticks": ""
             }
            },
            "type": "parcoords"
           }
          ],
          "pie": [
           {
            "automargin": true,
            "type": "pie"
           }
          ],
          "scatter": [
           {
            "fillpattern": {
             "fillmode": "overlay",
             "size": 10,
             "solidity": 0.2
            },
            "type": "scatter"
           }
          ],
          "scatter3d": [
           {
            "line": {
             "colorbar": {
              "outlinewidth": 0,
              "ticks": ""
             }
            },
            "marker": {
             "colorbar": {
              "outlinewidth": 0,
              "ticks": ""
             }
            },
            "type": "scatter3d"
           }
          ],
          "scattercarpet": [
           {
            "marker": {
             "colorbar": {
              "outlinewidth": 0,
              "ticks": ""
             }
            },
            "type": "scattercarpet"
           }
          ],
          "scattergeo": [
           {
            "marker": {
             "colorbar": {
              "outlinewidth": 0,
              "ticks": ""
             }
            },
            "type": "scattergeo"
           }
          ],
          "scattergl": [
           {
            "marker": {
             "colorbar": {
              "outlinewidth": 0,
              "ticks": ""
             }
            },
            "type": "scattergl"
           }
          ],
          "scattermapbox": [
           {
            "marker": {
             "colorbar": {
              "outlinewidth": 0,
              "ticks": ""
             }
            },
            "type": "scattermapbox"
           }
          ],
          "scatterpolar": [
           {
            "marker": {
             "colorbar": {
              "outlinewidth": 0,
              "ticks": ""
             }
            },
            "type": "scatterpolar"
           }
          ],
          "scatterpolargl": [
           {
            "marker": {
             "colorbar": {
              "outlinewidth": 0,
              "ticks": ""
             }
            },
            "type": "scatterpolargl"
           }
          ],
          "scatterternary": [
           {
            "marker": {
             "colorbar": {
              "outlinewidth": 0,
              "ticks": ""
             }
            },
            "type": "scatterternary"
           }
          ],
          "surface": [
           {
            "colorbar": {
             "outlinewidth": 0,
             "ticks": ""
            },
            "colorscale": [
             [
              0,
              "#0d0887"
             ],
             [
              0.1111111111111111,
              "#46039f"
             ],
             [
              0.2222222222222222,
              "#7201a8"
             ],
             [
              0.3333333333333333,
              "#9c179e"
             ],
             [
              0.4444444444444444,
              "#bd3786"
             ],
             [
              0.5555555555555556,
              "#d8576b"
             ],
             [
              0.6666666666666666,
              "#ed7953"
             ],
             [
              0.7777777777777778,
              "#fb9f3a"
             ],
             [
              0.8888888888888888,
              "#fdca26"
             ],
             [
              1,
              "#f0f921"
             ]
            ],
            "type": "surface"
           }
          ],
          "table": [
           {
            "cells": {
             "fill": {
              "color": "#EBF0F8"
             },
             "line": {
              "color": "white"
             }
            },
            "header": {
             "fill": {
              "color": "#C8D4E3"
             },
             "line": {
              "color": "white"
             }
            },
            "type": "table"
           }
          ]
         },
         "layout": {
          "annotationdefaults": {
           "arrowcolor": "#2a3f5f",
           "arrowhead": 0,
           "arrowwidth": 1
          },
          "autotypenumbers": "strict",
          "coloraxis": {
           "colorbar": {
            "outlinewidth": 0,
            "ticks": ""
           }
          },
          "colorscale": {
           "diverging": [
            [
             0,
             "#8e0152"
            ],
            [
             0.1,
             "#c51b7d"
            ],
            [
             0.2,
             "#de77ae"
            ],
            [
             0.3,
             "#f1b6da"
            ],
            [
             0.4,
             "#fde0ef"
            ],
            [
             0.5,
             "#f7f7f7"
            ],
            [
             0.6,
             "#e6f5d0"
            ],
            [
             0.7,
             "#b8e186"
            ],
            [
             0.8,
             "#7fbc41"
            ],
            [
             0.9,
             "#4d9221"
            ],
            [
             1,
             "#276419"
            ]
           ],
           "sequential": [
            [
             0,
             "#0d0887"
            ],
            [
             0.1111111111111111,
             "#46039f"
            ],
            [
             0.2222222222222222,
             "#7201a8"
            ],
            [
             0.3333333333333333,
             "#9c179e"
            ],
            [
             0.4444444444444444,
             "#bd3786"
            ],
            [
             0.5555555555555556,
             "#d8576b"
            ],
            [
             0.6666666666666666,
             "#ed7953"
            ],
            [
             0.7777777777777778,
             "#fb9f3a"
            ],
            [
             0.8888888888888888,
             "#fdca26"
            ],
            [
             1,
             "#f0f921"
            ]
           ],
           "sequentialminus": [
            [
             0,
             "#0d0887"
            ],
            [
             0.1111111111111111,
             "#46039f"
            ],
            [
             0.2222222222222222,
             "#7201a8"
            ],
            [
             0.3333333333333333,
             "#9c179e"
            ],
            [
             0.4444444444444444,
             "#bd3786"
            ],
            [
             0.5555555555555556,
             "#d8576b"
            ],
            [
             0.6666666666666666,
             "#ed7953"
            ],
            [
             0.7777777777777778,
             "#fb9f3a"
            ],
            [
             0.8888888888888888,
             "#fdca26"
            ],
            [
             1,
             "#f0f921"
            ]
           ]
          },
          "colorway": [
           "#636efa",
           "#EF553B",
           "#00cc96",
           "#ab63fa",
           "#FFA15A",
           "#19d3f3",
           "#FF6692",
           "#B6E880",
           "#FF97FF",
           "#FECB52"
          ],
          "font": {
           "color": "#2a3f5f"
          },
          "geo": {
           "bgcolor": "white",
           "lakecolor": "white",
           "landcolor": "#E5ECF6",
           "showlakes": true,
           "showland": true,
           "subunitcolor": "white"
          },
          "hoverlabel": {
           "align": "left"
          },
          "hovermode": "closest",
          "mapbox": {
           "style": "light"
          },
          "paper_bgcolor": "white",
          "plot_bgcolor": "#E5ECF6",
          "polar": {
           "angularaxis": {
            "gridcolor": "white",
            "linecolor": "white",
            "ticks": ""
           },
           "bgcolor": "#E5ECF6",
           "radialaxis": {
            "gridcolor": "white",
            "linecolor": "white",
            "ticks": ""
           }
          },
          "scene": {
           "xaxis": {
            "backgroundcolor": "#E5ECF6",
            "gridcolor": "white",
            "gridwidth": 2,
            "linecolor": "white",
            "showbackground": true,
            "ticks": "",
            "zerolinecolor": "white"
           },
           "yaxis": {
            "backgroundcolor": "#E5ECF6",
            "gridcolor": "white",
            "gridwidth": 2,
            "linecolor": "white",
            "showbackground": true,
            "ticks": "",
            "zerolinecolor": "white"
           },
           "zaxis": {
            "backgroundcolor": "#E5ECF6",
            "gridcolor": "white",
            "gridwidth": 2,
            "linecolor": "white",
            "showbackground": true,
            "ticks": "",
            "zerolinecolor": "white"
           }
          },
          "shapedefaults": {
           "line": {
            "color": "#2a3f5f"
           }
          },
          "ternary": {
           "aaxis": {
            "gridcolor": "white",
            "linecolor": "white",
            "ticks": ""
           },
           "baxis": {
            "gridcolor": "white",
            "linecolor": "white",
            "ticks": ""
           },
           "bgcolor": "#E5ECF6",
           "caxis": {
            "gridcolor": "white",
            "linecolor": "white",
            "ticks": ""
           }
          },
          "title": {
           "x": 0.05
          },
          "xaxis": {
           "automargin": true,
           "gridcolor": "white",
           "linecolor": "white",
           "ticks": "",
           "title": {
            "standoff": 15
           },
           "zerolinecolor": "white",
           "zerolinewidth": 2
          },
          "yaxis": {
           "automargin": true,
           "gridcolor": "white",
           "linecolor": "white",
           "ticks": "",
           "title": {
            "standoff": 15
           },
           "zerolinecolor": "white",
           "zerolinewidth": 2
          }
         }
        },
        "title": {
         "text": "Quality vs Iteration"
        },
        "xaxis": {
         "title": {
          "text": "Iteration"
         }
        },
        "yaxis": {
         "title": {
          "text": "Quality"
         }
        }
       }
      }
     },
     "metadata": {},
     "output_type": "display_data"
    }
   ],
   "source": [
    "from skopt import gp_minimize\n",
    "from skopt.space import Real\n",
    "import numpy as np\n",
    "import plotly.graph_objects as go\n",
    "\n",
    "# Define the parameter space\n",
    "param_space = [Real(-100, 100, name=f'Parameter {i}') for i in range(10)]\n",
    "\n",
    "# Initial set of parameters\n",
    "initial_params = [0.0, 53.0, 0.0, 66.0, -68.0, 0.0, 48.0, -50.0, 79.0, -16.0]\n",
    "\n",
    "# Number of runs\n",
    "num_runs = 5\n",
    "\n",
    "# Lists to store results\n",
    "bayesian_results = []\n",
    "random_results = []\n",
    "\n",
    "for run in range(num_runs):\n",
    "    # Run the optimization with Gaussian process regressor\n",
    "    bayesian_search_results = gp_minimize(\n",
    "        objective_function,\n",
    "        dimensions=param_space,\n",
    "        n_calls=250,\n",
    "        verbose=True,\n",
    "        n_random_starts=20,\n",
    "        n_initial_points=20,\n",
    "        x0=[initial_params]\n",
    "    )\n",
    "\n",
    "    # Run the optimization with random search\n",
    "    random_search_results = gp_minimize(\n",
    "        objective_function,\n",
    "        dimensions=param_space,\n",
    "        n_calls=250,\n",
    "        verbose=True,\n",
    "        n_random_starts=20,\n",
    "        n_initial_points=20,\n",
    "        n_jobs=1,\n",
    "        x0=[initial_params]\n",
    "    )\n",
    "\n",
    "    # Extract the results\n",
    "    bayesian_results.append(-bayesian_search_results.func_vals)\n",
    "    random_results.append(-random_search_results.func_vals)\n",
    "\n",
    "# Calculate mean and standard deviation for each iteration\n",
    "bayesian_mean = np.mean(bayesian_results, axis=0)\n",
    "bayesian_std = np.std(bayesian_results, axis=0)\n",
    "random_mean = np.mean(random_results, axis=0)\n",
    "random_std = np.std(random_results, axis=0)\n",
    "\n",
    "# Plot the results with error bars\n",
    "fig = go.Figure()\n",
    "\n",
    "fig.add_trace(go.Scatter(\n",
    "    x=np.arange(1, len(bayesian_mean) + 1),\n",
    "    y=bayesian_mean,\n",
    "    mode='lines+markers',\n",
    "    name='Bayesian Optimization',\n",
    "    error_y=dict(type='data', array=bayesian_std, visible=True),\n",
    "))\n",
    "\n",
    "fig.add_trace(go.Scatter(\n",
    "    x=np.arange(1, len(random_mean) + 1),\n",
    "    y=random_mean,\n",
    "    mode='lines+markers',\n",
    "    name='Random Search',\n",
    "    error_y=dict(type='data', array=random_std, visible=True),\n",
    "))\n",
    "\n",
    "fig.update_layout(\n",
    "    title='Quality vs Iteration',\n",
    "    xaxis=dict(title='Iteration'),\n",
    "    yaxis=dict(title='Quality'),\n",
    "    showlegend=True\n",
    ")\n",
    "\n",
    "fig.show()\n"
   ]
  },
  {
   "cell_type": "code",
   "execution_count": 101,
   "metadata": {},
   "outputs": [
    {
     "data": {
      "text/plain": [
       "Text(0.5, 1.0, 'Quality vs Iteration for Bayesian and Random Search')"
      ]
     },
     "execution_count": 101,
     "metadata": {},
     "output_type": "execute_result"
    },
    {
     "data": {
      "image/png": "[encoded data removed]",
      "text/plain": [
       "<Figure size 720x432 with 1 Axes>"
      ]
     },
     "metadata": {
      "needs_background": "light"
     },
     "output_type": "display_data"
    }
   ],
   "source": [
    "plt.figure(figsize=(10, 6))\n",
    "plt.plot(range(1, len(bayesian_mean) + 1), bayesian_mean, marker='o', label='Bayesian Search')\n",
    "plt.plot(range(1, len(random_mean) + 1), random_mean, marker='o', label='Random Search')\n",
    "plt.xlabel('Iteration')\n",
    "plt.ylabel('Quality')\n",
    "plt.title('Quality vs Iteration for Bayesian and Random Search')"
   ]
  },
  {
   "cell_type": "code",
   "execution_count": 102,
   "metadata": {},
   "outputs": [
    {
     "data": {
      "image/png": "[encoded data removed]",
      "text/plain": [
       "<Figure size 864x432 with 1 Axes>"
      ]
     },
     "metadata": {
      "needs_background": "light"
     },
     "output_type": "display_data"
    }
   ],
   "source": [
    "# Plot the results with error bars using plt\n",
    "plt.figure(figsize=(12, 6))\n",
    "\n",
    "# Bayesian Optimization\n",
    "plt.errorbar(\n",
    "    x=np.arange(1, len(bayesian_mean) + 1),\n",
    "    y=bayesian_mean,\n",
    "    yerr=bayesian_std,\n",
    "    label='Bayesian Optimization',\n",
    "    fmt='-o',\n",
    "    color='blue',\n",
    "    linewidth=2\n",
    ")\n",
    "\n",
    "# Random Search\n",
    "plt.errorbar(\n",
    "    x=np.arange(1, len(random_mean) + 1),\n",
    "    y=random_mean,\n",
    "    yerr=random_std,\n",
    "    label='Random Search',\n",
    "    fmt='-o',\n",
    "    color='orange',\n",
    "    linewidth=2\n",
    ")\n",
    "\n",
    "plt.xlabel('Iteration')\n",
    "plt.ylabel('Quality')\n",
    "plt.title('Quality vs Iteration')\n",
    "plt.legend()\n",
    "plt.grid(True)\n",
    "plt.show()\n"
   ]
  },
  {
   "cell_type": "markdown",
   "metadata": {},
   "source": [
    "Finally! BO beat random search!"
   ]
  }
 ],
 "metadata": {
  "kernelspec": {
   "display_name": "Python 3",
   "language": "python",
   "name": "python3"
  },
  "language_info": {
   "codemirror_mode": {
    "name": "ipython",
    "version": 3
   },
   "file_extension": ".py",
   "mimetype": "text/x-python",
   "name": "python",
   "nbconvert_exporter": "python",
   "pygments_lexer": "ipython3",
   "version": "3.9.7"
  },
  "orig_nbformat": 4
 },
 "nbformat": 4,
 "nbformat_minor": 2
}
