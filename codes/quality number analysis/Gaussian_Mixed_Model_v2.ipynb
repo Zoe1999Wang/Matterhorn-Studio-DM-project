{
 "cells": [
  {
   "cell_type": "markdown",
   "id": "942dd786",
   "metadata": {},
   "source": [
    "## Import 9 images to compare"
   ]
  },
  {
   "cell_type": "markdown",
   "id": "51bcd950",
   "metadata": {},
   "source": [
    "these 9 images without the saturated one."
   ]
  },
  {
   "cell_type": "code",
   "execution_count": 2,
   "id": "ca493c9e",
   "metadata": {},
   "outputs": [],
   "source": [
    "import glob\n",
    "import PIL\n",
    "import matplotlib.pyplot as plt \n",
    "import numpy as np\n",
    "from scipy import stats\n",
    "from PIL import Image\n",
    "from scipy import optimize\n",
    "from sklearn.metrics import r2_score\n",
    "import pandas as pd\n",
    "from matplotlib.patches import Rectangle\n",
    "from pylab import gray, imshow, show\n",
    "import cv2\n",
    "import imutils\n",
    "import laserbeamsize as lbs\n",
    "\n",
    "image_list = glob.glob(r'/home/zw3721/Downloads/2022_master_project/compare images/new/*.png')"
   ]
  },
  {
   "cell_type": "code",
   "execution_count": 38,
   "id": "0a0dbb6f",
   "metadata": {},
   "outputs": [
    {
     "name": "stdout",
     "output_type": "stream",
     "text": [
      "Quality Number: 0.875\n",
      "[[  8.00021111  22.23368553   0.         210.           1.99130194\n",
      "    0.79162615   0.37796508   0.99799083]]\n"
     ]
    },
    {
     "name": "stderr",
     "output_type": "stream",
     "text": [
      "/home/zw3721/.local/lib/python3.9/site-packages/skimage/feature/__init__.py:35: skimage_deprecation: Function ``greycomatrix`` is deprecated and will be removed in version 1.0. Use ``skimage.feature.graycomatrix`` instead.\n",
      "  removed_version='1.0')\n",
      "/home/zw3721/.local/lib/python3.9/site-packages/skimage/feature/__init__.py:42: skimage_deprecation: Function ``greycoprops`` is deprecated and will be removed in version 1.0. Use ``skimage.feature.graycoprops`` instead.\n",
      "  removed_version='1.0')\n",
      "/home/zw3721/.local/lib/python3.9/site-packages/skimage/feature/__init__.py:42: skimage_deprecation: Function ``greycoprops`` is deprecated and will be removed in version 1.0. Use ``skimage.feature.graycoprops`` instead.\n",
      "  removed_version='1.0')\n",
      "/home/zw3721/.local/lib/python3.9/site-packages/skimage/feature/__init__.py:42: skimage_deprecation: Function ``greycoprops`` is deprecated and will be removed in version 1.0. Use ``skimage.feature.graycoprops`` instead.\n",
      "  removed_version='1.0')\n",
      "/home/zw3721/.local/lib/python3.9/site-packages/skimage/feature/__init__.py:42: skimage_deprecation: Function ``greycoprops`` is deprecated and will be removed in version 1.0. Use ``skimage.feature.graycoprops`` instead.\n",
      "  removed_version='1.0')\n",
      "/home/zw3721/.local/lib/python3.9/site-packages/skimage/feature/__init__.py:35: skimage_deprecation: Function ``greycomatrix`` is deprecated and will be removed in version 1.0. Use ``skimage.feature.graycomatrix`` instead.\n",
      "  removed_version='1.0')\n",
      "/home/zw3721/.local/lib/python3.9/site-packages/skimage/feature/__init__.py:42: skimage_deprecation: Function ``greycoprops`` is deprecated and will be removed in version 1.0. Use ``skimage.feature.graycoprops`` instead.\n",
      "  removed_version='1.0')\n",
      "/home/zw3721/.local/lib/python3.9/site-packages/skimage/feature/__init__.py:42: skimage_deprecation: Function ``greycoprops`` is deprecated and will be removed in version 1.0. Use ``skimage.feature.graycoprops`` instead.\n",
      "  removed_version='1.0')\n",
      "/home/zw3721/.local/lib/python3.9/site-packages/skimage/feature/__init__.py:42: skimage_deprecation: Function ``greycoprops`` is deprecated and will be removed in version 1.0. Use ``skimage.feature.graycoprops`` instead.\n",
      "  removed_version='1.0')\n",
      "/home/zw3721/.local/lib/python3.9/site-packages/skimage/feature/__init__.py:42: skimage_deprecation: Function ``greycoprops`` is deprecated and will be removed in version 1.0. Use ``skimage.feature.graycoprops`` instead.\n",
      "  removed_version='1.0')\n"
     ]
    }
   ],
   "source": [
    "import cv2\n",
    "import numpy as np\n",
    "from sklearn.mixture import GaussianMixture\n",
    "from skimage.feature import greycomatrix, greycoprops\n",
    "\n",
    "def calculate_quality_number(image):\n",
    "    try:\n",
    "        # Step 1: Preprocess the image\n",
    "        gray_image = cv2.cvtColor(image, cv2.COLOR_BGR2GRAY)\n",
    "\n",
    "        # Step 2: Detect the focal spot region\n",
    "        # Implement appropriate techniques to identify the focal spot region\n",
    "        \n",
    "        # Step 3: Extract features\n",
    "        focal_spot_features = extract_features(gray_image)\n",
    "\n",
    "        # Reshape features to a 2D array\n",
    "        focal_spot_features = np.array(focal_spot_features).reshape(-1, 1)\n",
    "\n",
    "        # Step 4: Fit a Gaussian Mixture Model\n",
    "        gmm = GaussianMixture(n_components=2)  # You can adjust the number of components based on your data\n",
    "        gmm.fit(focal_spot_features)\n",
    "\n",
    "        # Step 5: Evaluate the GMM\n",
    "        gmm_probabilities = gmm.predict_proba(focal_spot_features)\n",
    "\n",
    "        # Step 6: Calculate the quality number\n",
    "        quality_number = np.sum(gmm_probabilities[:, 1]) / len(focal_spot_features)  # Using a sum\n",
    "\n",
    "        # Step 7: Normalize the quality number if needed\n",
    "        # You can perform scaling or mapping here to ensure the range is 0 to 1\n",
    "\n",
    "        return quality_number\n",
    "    except Exception as e:\n",
    "        print(\"Error:\", e)\n",
    "        return None\n",
    "\n",
    "def extract_features(image):\n",
    "    # Intensity-based features\n",
    "    intensity_features = []\n",
    "    intensity_features.append(np.mean(image))\n",
    "    intensity_features.append(np.std(image))\n",
    "    intensity_features.append(np.min(image))\n",
    "    intensity_features.append(np.max(image))\n",
    "    # Add more intensity-based features as needed\n",
    "\n",
    "    # Texture-based features using GLCM\n",
    "    gray_image = image.astype(np.uint8)\n",
    "    distances = [1]  # GLCM distances\n",
    "    angles = [0, np.pi/4, np.pi/2, 3*np.pi/4]  # GLCM angles\n",
    "    glcm = greycomatrix(gray_image, distances, angles, levels=256, symmetric=True, normed=True)\n",
    "    texture_features = []\n",
    "    texture_features.append(greycoprops(glcm, 'contrast').mean())\n",
    "    texture_features.append(greycoprops(glcm, 'homogeneity').mean())\n",
    "    texture_features.append(greycoprops(glcm, 'energy').mean())\n",
    "    texture_features.append(greycoprops(glcm, 'correlation').mean())\n",
    "    # Add more texture-based features as needed\n",
    "\n",
    "    # Combine all features\n",
    "    features = intensity_features + texture_features\n",
    "\n",
    "    return features\n",
    "\n",
    "# Example usage:\n",
    " # Replace with the path to your focal spot image\n",
    "image = cv2.imread(image_list[7])\n",
    "quality = calculate_quality_number(image)\n",
    "print(\"Quality Number:\", quality)\n",
    "\n",
    "image = cv2.imread(image_list[3])  \n",
    "gray_image = cv2.cvtColor(image, cv2.COLOR_BGR2GRAY)\n",
    "features = extract_features(gray_image)\n",
    "reshaped_features = np.array(features).reshape(1, -1)\n",
    "print(reshaped_features)"
   ]
  }
 ],
 "metadata": {
  "kernelspec": {
   "display_name": "MLBD-MRes",
   "language": "python",
   "name": "mlbd-mres"
  },
  "language_info": {
   "codemirror_mode": {
    "name": "ipython",
    "version": 3
   },
   "file_extension": ".py",
   "mimetype": "text/x-python",
   "name": "python",
   "nbconvert_exporter": "python",
   "pygments_lexer": "ipython3",
   "version": "3.9.7"
  }
 },
 "nbformat": 4,
 "nbformat_minor": 5
}
