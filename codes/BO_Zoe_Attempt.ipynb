{
 "cells": [
  {
   "cell_type": "markdown",
   "metadata": {},
   "source": [
    "## Test 1.1: take 10 images with random PWM values"
   ]
  },
  {
   "cell_type": "code",
   "execution_count": 4,
   "metadata": {},
   "outputs": [
    {
     "name": "stdout",
     "output_type": "stream",
     "text": [
      "(10, 1000, 1000)\n",
      "(10, 1000, 1000)\n"
     ]
    }
   ],
   "source": [
    "import csv\n",
    "import numpy as np\n",
    "import random\n",
    "import time\n",
    "from PIL import Image\n",
    "from imageio import imwrite,imread\n",
    "import os\n",
    "from pylablib.devices import Thorlabs\n",
    "from PIL import Image\n",
    "import PIL.ImageOps \n",
    "import matplotlib.pyplot as plt \n",
    "  \n",
    "from pylablib.devices import Thorlabs\n",
    "Thorlabs.list_cameras_tlcam()\n",
    "cam = Thorlabs.ThorlabsTLCamera(serial=\"14308\")\n",
    "cam.set_exposure(0.0001) # set exposure to 100ms\n",
    "cam.set_roi(0,1000,0,1000) # set ROI in the upper left corner\n",
    "\n",
    "\n",
    "import laserbeamsize as lbs\n",
    "A = np.random.randint(low=0,high=2000,size=(5,1), dtype=np.int32)   # range form 0 to 3000\n",
    "with open('PWM_test.csv', 'w', newline='') as file:\n",
    "    mywriter = csv.writer(file, delimiter=',')\n",
    "    mywriter.writerows(A)\n",
    "\n",
    "raw_image_array = cam.grab(10) # grab 10 frames\n",
    "image_array=np.array(raw_image_array)\n",
    "squeezed_image_array=image_array.squeeze()\n",
    "print(image_array.shape)\n",
    "print(squeezed_image_array.shape)"
   ]
  },
  {
   "cell_type": "code",
   "execution_count": 8,
   "metadata": {},
   "outputs": [
    {
     "name": "stdout",
     "output_type": "stream",
     "text": [
      "10\n"
     ]
    }
   ],
   "source": [
    "print(len(squeezed_image_array))"
   ]
  },
  {
   "cell_type": "code",
   "execution_count": 20,
   "metadata": {},
   "outputs": [],
   "source": [
    "cam.close()"
   ]
  },
  {
   "cell_type": "code",
   "execution_count": null,
   "metadata": {},
   "outputs": [],
   "source": [
    "image_array.shape"
   ]
  },
  {
   "cell_type": "code",
   "execution_count": null,
   "metadata": {},
   "outputs": [],
   "source": [
    "squeezed_image_array.shape"
   ]
  },
  {
   "cell_type": "markdown",
   "metadata": {},
   "source": [
    "## Test 1.2: use quality analysis methods to calculate the average score"
   ]
  },
  {
   "cell_type": "code",
   "execution_count": 13,
   "metadata": {},
   "outputs": [
    {
     "name": "stdout",
     "output_type": "stream",
     "text": [
      "0.9655917982764729\n"
     ]
    }
   ],
   "source": [
    "from scipy import stats\n",
    "from scipy import optimize\n",
    "from sklearn.metrics import r2_score\n",
    "from PIL import Image\n",
    "import glob\n",
    "\n",
    "def gaussian(x, amplitude, mean, stddev):\n",
    "    return amplitude * np.exp(-((x - mean) / 4 / stddev)**2)\n",
    "def get_quality_number1(squeezed_image_array):\n",
    "    score=[]\n",
    "    for i in range (len(squeezed_image_array)):\n",
    "        x=np.linspace(0,1000,1000)\n",
    "        [m,n]=np.where(squeezed_image_array[i]==np.max(squeezed_image_array[i]))\n",
    "        mode_info_m = stats.mode(m, keepdims=True)  ##col\n",
    "        mode_info_n = stats.mode(n, keepdims=True) ##row\n",
    "        a=int(mode_info_m[0])\n",
    "        b=int(mode_info_n[0])\n",
    "        c=5 #box half-thickness\n",
    "        y_x=0\n",
    "\n",
    "        for j in range (a-c,a+c):\n",
    "            y_x=y_x+squeezed_image_array[i][j,:]/100 #tricky here since if this number is >255 it becomes 0.\n",
    "        y_x=(y_x)/c*100\n",
    "\n",
    "        y_y=0\n",
    "\n",
    "        for j in range (b-c,b+c):\n",
    "            y_y=y_y+squeezed_image_array[i][:,j]/100\n",
    "        y_y=((y_y)/c)*100\n",
    "\n",
    "        popt_x, pcov_x = optimize.curve_fit(gaussian, x, y_x+1,maxfev=500000) # tricky here!!!!! y_x+1\n",
    "        fitted_y_x=popt_x[0] * np.exp(-((x - popt_x[1]) / 4 / popt_x[2])**2)\n",
    "        a_x=r2_score(y_x,fitted_y_x)\n",
    "        popt_y, pcov_y = optimize.curve_fit(gaussian, x, y_y+1,maxfev=500000) # same here!!!! y_y+1\n",
    "        fitted_y_y=popt_y[0] * np.exp(-((x - popt_y[1]) / 4 / popt_y[2])**2)\n",
    "        a_y=r2_score(y_y,fitted_y_y)\n",
    "\n",
    "        s=abs(a_x*a_y)\n",
    "        score.append(s)\n",
    "        average_score=np.mean(score)\n",
    "    return average_score\n",
    "\n",
    "s=get_quality_number1(squeezed_image_array)\n",
    "print(s)"
   ]
  },
  {
   "cell_type": "code",
   "execution_count": 17,
   "metadata": {},
   "outputs": [
    {
     "name": "stdout",
     "output_type": "stream",
     "text": [
      "(10, 1000, 1000)\n",
      "(10, 1000, 1000)\n"
     ]
    }
   ],
   "source": [
    "print(image_array.shape)\n",
    "print(squeezed_image_array.shape)"
   ]
  },
  {
   "cell_type": "code",
   "execution_count": 18,
   "metadata": {},
   "outputs": [
    {
     "name": "stdout",
     "output_type": "stream",
     "text": [
      "6.961334535781131\n"
     ]
    }
   ],
   "source": [
    "import laserbeamsize as lbs\n",
    "\n",
    "def get_quality_number2(squeezed_image_array):\n",
    "    score=[]\n",
    "    for i in range (len(squeezed_image_array)):\n",
    "        x, y, dx, dy, phi = lbs.beam_size(squeezed_image_array[i])\n",
    "        Ellipticity = min(dx, dy) / max(dx, dy)\n",
    "        threshold_up_area = (squeezed_image_array[i] >= np.max(squeezed_image_array[i]) / 10) + 0  # define a threshold area\n",
    "        total_pixel = squeezed_image_array[i].shape[0] * squeezed_image_array[i].shape[1]\n",
    "        dispersion = total_pixel / np.sum(threshold_up_area)\n",
    "        quality_number = dispersion * Ellipticity\n",
    "        score.append(quality_number)\n",
    "        average_score=np.mean(score)\n",
    "    return average_score\n",
    "s=get_quality_number2(squeezed_image_array)\n",
    "print(s)\n"
   ]
  },
  {
   "cell_type": "code",
   "execution_count": 25,
   "metadata": {},
   "outputs": [],
   "source": [
    "cam.close()"
   ]
  },
  {
   "cell_type": "code",
   "execution_count": null,
   "metadata": {},
   "outputs": [],
   "source": []
  },
  {
   "cell_type": "markdown",
   "metadata": {},
   "source": [
    "## Test 1.3: test for BO loop"
   ]
  },
  {
   "cell_type": "code",
   "execution_count": 26,
   "metadata": {},
   "outputs": [
    {
     "name": "stdout",
     "output_type": "stream",
     "text": [
      "Score: -0.9381345819494188\n",
      "Score: -0.45192856486216765\n",
      "Score: -0.4691267670401816\n",
      "Score: -0.8902867781166715\n",
      "Score: -0.3703091039519758\n",
      "Score: -0.3807951936770517\n",
      "Score: -0.6787614204760832\n",
      "Score: -0.64886384878882\n",
      "Score: -0.5910864112445576\n",
      "Score: -0.7735733511662247\n",
      "Score: -0.6762251964450953\n"
     ]
    },
    {
     "name": "stderr",
     "output_type": "stream",
     "text": [
      "C:\\Users\\plasma\\anaconda3\\lib\\site-packages\\scipy\\optimize\\_minpack_py.py:486: RuntimeWarning: overflow encountered in matmul\n",
      "  cov_x = invR @ invR.T\n",
      "C:\\Users\\plasma\\anaconda3\\lib\\site-packages\\scipy\\optimize\\_minpack_py.py:486: RuntimeWarning: overflow encountered in matmul\n",
      "  cov_x = invR @ invR.T\n",
      "C:\\Users\\plasma\\anaconda3\\lib\\site-packages\\scipy\\optimize\\_minpack_py.py:486: RuntimeWarning: overflow encountered in matmul\n",
      "  cov_x = invR @ invR.T\n"
     ]
    },
    {
     "name": "stdout",
     "output_type": "stream",
     "text": [
      "Score: -0.7184661522381075\n",
      "Score: -0.37173909705330754\n",
      "Score: -0.7548443597092004\n",
      "Score: -0.4919275128585678\n"
     ]
    },
    {
     "name": "stderr",
     "output_type": "stream",
     "text": [
      "C:\\Users\\plasma\\anaconda3\\lib\\site-packages\\scipy\\optimize\\_minpack_py.py:486: RuntimeWarning: overflow encountered in matmul\n",
      "  cov_x = invR @ invR.T\n"
     ]
    },
    {
     "name": "stdout",
     "output_type": "stream",
     "text": [
      "Score: -0.5089535927412798\n",
      "Score: -0.5979006073332777\n",
      "Score: -0.8600332715525447\n",
      "Score: -0.8509270628387992\n",
      "Score: -0.7278886402384797\n",
      "Score: -0.7379638216761567\n",
      "Score: -0.913339356020207\n",
      "Score: -0.9339243309037218\n",
      "Score: -0.9313493013261285\n",
      "Score: -0.9280152869927377\n",
      "[3880, 2732, 2594, 1173, 518]\n",
      "          fun: -0.9381345819494188\n",
      "            x: [3880, 2732, 2594, 1173, 518]\n",
      "    func_vals: [-9.381e-01 -4.519e-01 ... -9.313e-01 -9.280e-01]\n",
      "      x_iters: [[3880, 2732, 2594, 1173, 518], [3572, 3013, 1709, 2939, 1747], [1084, 3237, 3293, 2185, 2891], [338, 2230, 3747, 3927, 2002], [2951, 2692, 3014, 383, 1520], [509, 1790, 3024, 2050, 1715], [979, 488, 717, 378, 1440], [2902, 1292, 1209, 1593, 2194], [1063, 1900, 1, 2711, 172], [1783, 298, 3444, 2550, 2524], [1237, 1701, 2568, 1969, 31], [2614, 1082, 2608, 928, 777], [1500, 3371, 3727, 3542, 2063], [2375, 2058, 1272, 3751, 1818], [4048, 2759, 1509, 1118, 450], [2339, 3231, 1296, 3417, 1345], [947, 227, 2020, 1969, 3393], [2037, 4019, 3237, 2525, 2884], [1532, 2192, 1670, 3155, 689], [1719, 4049, 4064, 3804, 1730], [2633, 752, 2482, 982, 202], [1295, 2262, 1510, 2352, 3984], [3503, 900, 326, 1732, 3530], [320, 788, 3381, 1040, 2010], [330, 2328, 497, 3679, 187]]\n",
      "       models: [GaussianProcessRegressor(kernel=1**2 * Matern(length_scale=[1, 1, 1, 1, 1], nu=2.5) + WhiteKernel(noise_level=1),\n",
      "                                        n_restarts_optimizer=2, noise='gaussian',\n",
      "                                        normalize_y=True, random_state=1586432031), GaussianProcessRegressor(kernel=1**2 * Matern(length_scale=[1, 1, 1, 1, 1], nu=2.5) + WhiteKernel(noise_level=1),\n",
      "                                        n_restarts_optimizer=2, noise='gaussian',\n",
      "                                        normalize_y=True, random_state=1586432031), GaussianProcessRegressor(kernel=1**2 * Matern(length_scale=[1, 1, 1, 1, 1], nu=2.5) + WhiteKernel(noise_level=1),\n",
      "                                        n_restarts_optimizer=2, noise='gaussian',\n",
      "                                        normalize_y=True, random_state=1586432031), GaussianProcessRegressor(kernel=1**2 * Matern(length_scale=[1, 1, 1, 1, 1], nu=2.5) + WhiteKernel(noise_level=1),\n",
      "                                        n_restarts_optimizer=2, noise='gaussian',\n",
      "                                        normalize_y=True, random_state=1586432031), GaussianProcessRegressor(kernel=1**2 * Matern(length_scale=[1, 1, 1, 1, 1], nu=2.5) + WhiteKernel(noise_level=1),\n",
      "                                        n_restarts_optimizer=2, noise='gaussian',\n",
      "                                        normalize_y=True, random_state=1586432031), GaussianProcessRegressor(kernel=1**2 * Matern(length_scale=[1, 1, 1, 1, 1], nu=2.5) + WhiteKernel(noise_level=1),\n",
      "                                        n_restarts_optimizer=2, noise='gaussian',\n",
      "                                        normalize_y=True, random_state=1586432031), GaussianProcessRegressor(kernel=1**2 * Matern(length_scale=[1, 1, 1, 1, 1], nu=2.5) + WhiteKernel(noise_level=1),\n",
      "                                        n_restarts_optimizer=2, noise='gaussian',\n",
      "                                        normalize_y=True, random_state=1586432031), GaussianProcessRegressor(kernel=1**2 * Matern(length_scale=[1, 1, 1, 1, 1], nu=2.5) + WhiteKernel(noise_level=1),\n",
      "                                        n_restarts_optimizer=2, noise='gaussian',\n",
      "                                        normalize_y=True, random_state=1586432031), GaussianProcessRegressor(kernel=1**2 * Matern(length_scale=[1, 1, 1, 1, 1], nu=2.5) + WhiteKernel(noise_level=1),\n",
      "                                        n_restarts_optimizer=2, noise='gaussian',\n",
      "                                        normalize_y=True, random_state=1586432031), GaussianProcessRegressor(kernel=1**2 * Matern(length_scale=[1, 1, 1, 1, 1], nu=2.5) + WhiteKernel(noise_level=1),\n",
      "                                        n_restarts_optimizer=2, noise='gaussian',\n",
      "                                        normalize_y=True, random_state=1586432031), GaussianProcessRegressor(kernel=1**2 * Matern(length_scale=[1, 1, 1, 1, 1], nu=2.5) + WhiteKernel(noise_level=1),\n",
      "                                        n_restarts_optimizer=2, noise='gaussian',\n",
      "                                        normalize_y=True, random_state=1586432031), GaussianProcessRegressor(kernel=1**2 * Matern(length_scale=[1, 1, 1, 1, 1], nu=2.5) + WhiteKernel(noise_level=1),\n",
      "                                        n_restarts_optimizer=2, noise='gaussian',\n",
      "                                        normalize_y=True, random_state=1586432031), GaussianProcessRegressor(kernel=1**2 * Matern(length_scale=[1, 1, 1, 1, 1], nu=2.5) + WhiteKernel(noise_level=1),\n",
      "                                        n_restarts_optimizer=2, noise='gaussian',\n",
      "                                        normalize_y=True, random_state=1586432031), GaussianProcessRegressor(kernel=1**2 * Matern(length_scale=[1, 1, 1, 1, 1], nu=2.5) + WhiteKernel(noise_level=1),\n",
      "                                        n_restarts_optimizer=2, noise='gaussian',\n",
      "                                        normalize_y=True, random_state=1586432031), GaussianProcessRegressor(kernel=1**2 * Matern(length_scale=[1, 1, 1, 1, 1], nu=2.5) + WhiteKernel(noise_level=1),\n",
      "                                        n_restarts_optimizer=2, noise='gaussian',\n",
      "                                        normalize_y=True, random_state=1586432031), GaussianProcessRegressor(kernel=1**2 * Matern(length_scale=[1, 1, 1, 1, 1], nu=2.5) + WhiteKernel(noise_level=1),\n",
      "                                        n_restarts_optimizer=2, noise='gaussian',\n",
      "                                        normalize_y=True, random_state=1586432031)]\n",
      "        space: Space([Integer(low=0, high=4095, prior='uniform', transform='normalize'),\n",
      "                      Integer(low=0, high=4095, prior='uniform', transform='normalize'),\n",
      "                      Integer(low=0, high=4095, prior='uniform', transform='normalize'),\n",
      "                      Integer(low=0, high=4095, prior='uniform', transform='normalize'),\n",
      "                      Integer(low=0, high=4095, prior='uniform', transform='normalize')])\n",
      " random_state: RandomState(MT19937)\n",
      "        specs:     args:                    func: <function objective at 0x00000171895D2EF0>\n",
      "                                      dimensions: Space([Integer(low=0, high=4095, prior='uniform', transform='normalize'),\n",
      "                                                         Integer(low=0, high=4095, prior='uniform', transform='normalize'),\n",
      "                                                         Integer(low=0, high=4095, prior='uniform', transform='normalize'),\n",
      "                                                         Integer(low=0, high=4095, prior='uniform', transform='normalize'),\n",
      "                                                         Integer(low=0, high=4095, prior='uniform', transform='normalize')])\n",
      "                                  base_estimator: GaussianProcessRegressor(kernel=1**2 * Matern(length_scale=[1, 1, 1, 1, 1], nu=2.5),\n",
      "                                                                           n_restarts_optimizer=2, noise='gaussian',\n",
      "                                                                           normalize_y=True, random_state=1586432031)\n",
      "                                         n_calls: 25\n",
      "                                 n_random_starts: None\n",
      "                                n_initial_points: 10\n",
      "                         initial_point_generator: random\n",
      "                                        acq_func: gp_hedge\n",
      "                                   acq_optimizer: auto\n",
      "                                              x0: None\n",
      "                                              y0: None\n",
      "                                    random_state: RandomState(MT19937)\n",
      "                                         verbose: False\n",
      "                                        callback: None\n",
      "                                        n_points: 10\n",
      "                            n_restarts_optimizer: 5\n",
      "                                              xi: 0.01\n",
      "                                           kappa: 1.96\n",
      "                                          n_jobs: 1\n",
      "                                model_queue_size: None\n",
      "               function: base_minimize\n"
     ]
    }
   ],
   "source": [
    "from skopt import gp_minimize\n",
    "import pygad\n",
    "import laserbeamsize as lbs\n",
    "import numpy as np\n",
    "\n",
    "# Use the optimal_pwm_values for controlling the deformable mirror\n",
    "from pylablib.devices import Thorlabs\n",
    "Thorlabs.list_cameras_tlcam()\n",
    "cam = Thorlabs.ThorlabsTLCamera(serial=\"14308\")\n",
    "cam.set_exposure(0.0001) # set exposure to 100ms\n",
    "cam.set_roi(0,1000,0,1000) # set ROI in the upper left corner\n",
    "\n",
    "def objective(solution):\n",
    "    A = np.array([[solution[0]], [solution[1]], [solution[2]], [solution[3]], [solution[4]]])\n",
    "    with open('PWM_test.csv', 'w', newline='') as file:\n",
    "        mywriter = csv.writer(file, delimiter=',')\n",
    "        mywriter.writerows(A)\n",
    "    time.sleep(0.1)\n",
    "    raw_image_array = cam.grab(10) # grab 10 frames\n",
    "    image_array=np.array(raw_image_array)\n",
    "    squeezed_image_array=image_array.squeeze()\n",
    "    quality_number = get_quality_number1(squeezed_image_array)\n",
    "    score = -quality_number\n",
    "    print(f\"Score: {score}\")\n",
    "    return score\n",
    "\n",
    "bounds = [(0, 4095)] * 5  # Example bounds for 5 PWM values\n",
    "\n",
    "# Modify the following parameters as per your requirements\n",
    "n_calls = 25  # Number of iterations\n",
    "n_points = 10  # Number of points used for training the surrogate model\n",
    "\n",
    "res = gp_minimize(objective, bounds, n_calls=n_calls, n_points=n_points)\n",
    "\n",
    "optimal_pwm_values = res.x\n",
    "print(optimal_pwm_values)\n",
    "print(res)"
   ]
  },
  {
   "cell_type": "code",
   "execution_count": 27,
   "metadata": {},
   "outputs": [],
   "source": [
    "cam.close()"
   ]
  }
 ],
 "metadata": {
  "kernelspec": {
   "display_name": "Python 3 (ipykernel)",
   "language": "python",
   "name": "python3"
  },
  "language_info": {
   "codemirror_mode": {
    "name": "ipython",
    "version": 3
   },
   "file_extension": ".py",
   "mimetype": "text/x-python",
   "name": "python",
   "nbconvert_exporter": "python",
   "pygments_lexer": "ipython3",
   "version": "3.10.9"
  },
  "vscode": {
   "interpreter": {
    "hash": "876db7d3f8682b7e4c5477e5f1e2dc2bd1b19fe05d9aabd59218369070754b39"
   }
  }
 },
 "nbformat": 4,
 "nbformat_minor": 2
}
