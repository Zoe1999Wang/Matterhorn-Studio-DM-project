{
 "cells": [
  {
   "cell_type": "code",
   "execution_count": 28,
   "metadata": {},
   "outputs": [],
   "source": [
    "import csv\n",
    "import numpy\n",
    "\n",
    "A = numpy.array([[431],[22],[30],[4],[5]], dtype=numpy.int64)\n",
    "\n",
    "\n",
    "with open('PWM_test.csv', 'w', newline='') as file:\n",
    "    mywriter = csv.writer(file, delimiter=',')\n",
    "    mywriter.writerows(A)\n",
    "\n"
   ]
  },
  {
   "cell_type": "markdown",
   "metadata": {},
   "source": [
    "\n",
    "    "
   ]
  },
  {
   "cell_type": "code",
   "execution_count": 38,
   "metadata": {},
   "outputs": [],
   "source": [
    "# import csv\n",
    "# import numpy as np\n",
    "# row=np.array([])\n",
    "# with open('PWM_test.csv', encoding='utf-8') as f:\n",
    "#     for row in csv.reader(f, skipinitialspace=True):\n",
    "#         row=np.array(row)   \n",
    "#         row=row.astype(np.int64)\n",
    "        \n",
    "#         print(row)\n",
    "#         print(type(row))\n",
    "\n",
    "import csv\n",
    "import numpy as np\n",
    "pwm_value = np.array([])\n",
    "with open('PWM_test.csv', encoding='utf-8') as f:\n",
    "    for row in csv.reader(f, skipinitialspace=True):\n",
    "        row=np.array(row)\n",
    "        row=row.astype(np.int64)\n",
    "        pwm_value = np.append(pwm_value,row)\n",
    "        pwm_value = pwm_value.astype(int)"
   ]
  },
  {
   "cell_type": "code",
   "execution_count": 39,
   "metadata": {},
   "outputs": [
    {
     "name": "stdout",
     "output_type": "stream",
     "text": [
      "5\n"
     ]
    }
   ],
   "source": [
    "print(pwm_value[4])"
   ]
  }
 ],
 "metadata": {
  "kernelspec": {
   "display_name": "Python 3 (ipykernel)",
   "language": "python",
   "name": "python3"
  },
  "language_info": {
   "codemirror_mode": {
    "name": "ipython",
    "version": 3
   },
   "file_extension": ".py",
   "mimetype": "text/x-python",
   "name": "python",
   "nbconvert_exporter": "python",
   "pygments_lexer": "ipython3",
   "version": "3.9.7"
  },
  "vscode": {
   "interpreter": {
    "hash": "876db7d3f8682b7e4c5477e5f1e2dc2bd1b19fe05d9aabd59218369070754b39"
   }
  }
 },
 "nbformat": 4,
 "nbformat_minor": 2
}
