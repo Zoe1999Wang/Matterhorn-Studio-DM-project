{
 "cells": [
  {
   "cell_type": "code",
   "execution_count": 2,
   "metadata": {},
   "outputs": [],
   "source": [
    "import time\n",
    "from threading import Timer\n",
    "import time\n",
    "import numpy as np\n",
    "import math\n",
    "import os\n",
    "import csv\n",
    "from pickletools import int4\n",
    "\n",
    "def give_single_channel(i,value):\n",
    "    value=max(0,value)\n",
    "    value=min(4095,value)\n",
    "    i=max(1,i)\n",
    "    i=min(17,i)\n",
    "    pwm.set_pwm(i,0,value)\n",
    "\n",
    "def loop_value(start,end,fluc):\n",
    "    start = max(0,start)\n",
    "    start = min(4095,start)\n",
    "    end = max(0,end)\n",
    "    end = min(4095,end)\n",
    "    loop_value = np.array([])\n",
    "    if start == end:\n",
    "        loop_value = np.append(loop_value, start)\n",
    "    if start > end:\n",
    "        loop_value = np.append(loop_value, start)\n",
    "        for i in range(1,12):\n",
    "            val = math.ceil(start/pow(2,i))\n",
    "            if int(val) <= end:\n",
    "                loop_value = np.append(loop_value, end)\n",
    "                return loop_value.astype(int)\n",
    "            if int(val) == 2:\n",
    "                loop_value = np.append(loop_value, 2)\n",
    "                loop_value = np.append(loop_value, 0)\n",
    "                return loop_value.astype(int)\n",
    "            loop_value = np.append(loop_value, val)\n",
    "            val_upfluc = math.ceil(val+fluc*val)\n",
    "            val_upfluc = min(4095,val_upfluc)\n",
    "            loop_value = np.append(loop_value, val_upfluc)\n",
    "            val_downfluc = math.ceil(val-fluc*val)\n",
    "            val_downfluc = max(0,val_downfluc)\n",
    "            loop_value = np.append(loop_value, val_downfluc)\n",
    "\n",
    "    if start < end:\n",
    "            middle = end\n",
    "            end = start\n",
    "            start = middle\n",
    "            if start < end:\n",
    "                print('error')\n",
    "            loop_value = np.append(loop_value, start)\n",
    "            for i in range(1,12):\n",
    "                val = math.ceil(start/pow(2,i))\n",
    "                if int(val) <= end:\n",
    "                    loop_value = np.append(loop_value, end)\n",
    "                    loop_value = np.flipud(loop_value)\n",
    "                    return loop_value.astype(int)\n",
    "                if int(val) == 2:\n",
    "                    loop_value = np.append(loop_value, 0)\n",
    "                    loop_value = np.flipud(loop_value)\n",
    "                    return loop_value.astype(int)\n",
    "                loop_value = np.append(loop_value, val)\n",
    "                val_upfluc = math.ceil(val+fluc*val)\n",
    "                val_upfluc = min(4095,val_upfluc)\n",
    "                loop_value = np.append(loop_value, val_upfluc)\n",
    "                val_downfluc = math.ceil(val-fluc*val)\n",
    "                val_downfluc = max(0,val_downfluc)\n",
    "                loop_value = np.append(loop_value, val_downfluc)\n",
    "\n"
   ]
  },
  {
   "cell_type": "code",
   "execution_count": 3,
   "metadata": {},
   "outputs": [
    {
     "data": {
      "text/plain": [
       "array([4095, 2048, 2663, 1434, 1024, 1332,  717,  512,  666,  359,  256,\n",
       "        333,  180,  128,  167,   90,   64,   84,   45,   32,   42,   23,\n",
       "         16,   21,   12,    8,   11,    6,    4,    6,    3,    2,    0])"
      ]
     },
     "execution_count": 3,
     "metadata": {},
     "output_type": "execute_result"
    }
   ],
   "source": [
    "loop_value(4095,0,0.3)"
   ]
  },
  {
   "cell_type": "code",
   "execution_count": 6,
   "metadata": {},
   "outputs": [
    {
     "data": {
      "text/plain": [
       "16.5"
      ]
     },
     "execution_count": 6,
     "metadata": {},
     "output_type": "execute_result"
    }
   ],
   "source": [
    "def annealing_time_calculator(dt):\n",
    "    time=len(loop_value(4095,0,0.3))*dt*5\n",
    "    return time\n",
    "    \n",
    "annealing_time_calculator(0.1)"
   ]
  },
  {
   "cell_type": "code",
   "execution_count": null,
   "metadata": {},
   "outputs": [],
   "source": []
  }
 ],
 "metadata": {
  "kernelspec": {
   "display_name": "Python 3",
   "language": "python",
   "name": "python3"
  },
  "language_info": {
   "codemirror_mode": {
    "name": "ipython",
    "version": 3
   },
   "file_extension": ".py",
   "mimetype": "text/x-python",
   "name": "python",
   "nbconvert_exporter": "python",
   "pygments_lexer": "ipython3",
   "version": "3.9.7"
  },
  "orig_nbformat": 4
 },
 "nbformat": 4,
 "nbformat_minor": 2
}
