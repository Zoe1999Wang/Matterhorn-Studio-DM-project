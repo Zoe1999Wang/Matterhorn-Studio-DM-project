{
 "cells": [
  {
   "cell_type": "code",
   "execution_count": 1,
   "metadata": {},
   "outputs": [],
   "source": [
    "import csv\n",
    "import numpy as np\n",
    "import random\n",
    "import time\n",
    "from PIL import Image\n",
    "from imageio import imwrite,imread\n",
    "import os\n",
    "from pylablib.devices import Thorlabs\n",
    "\n",
    "def mkdir(path):\n",
    "\tfolder = os.path.exists(path)\n",
    "\tif not folder:                   \n",
    "\t\tos.makedirs(path)    \n",
    "\n",
    "from pylablib.devices import Thorlabs\n",
    "Thorlabs.list_cameras_tlcam()\n",
    "cam = Thorlabs.ThorlabsTLCamera(serial=\"14308\")\n",
    "# cam.close()\n",
    "cam.set_exposure(0.01) # set exposure to 100ms\n",
    "# frame = cam.snap() # grab a single frame\n",
    "cam.set_roi(450,1050,400,1000) # set ROI in the upper left corner\n",
    "#images = cam.grab(10) # grab 10 frames\n",
    "\n",
    "i=0\n",
    "while i<= 0:\n",
    "    #A = np.array([[0],[0],[0],[0],[0]], dtype=np.int32)\n",
    "    A = np.random.randint(low=0,high=2000,size=(5,1), dtype=np.int32)   # range form 0 to 3000\n",
    "    with open('PWM_test.csv', 'w', newline='') as file:\n",
    "        mywriter = csv.writer(file, delimiter=',')\n",
    "        mywriter.writerows(A)\n",
    "    time.sleep(0.1) \n",
    "    fig_name = 'pwm='+str(int(A[0]))+'-'+str(int(A[1]))+'-'+str(int(A[2]))+'-'+str(int(A[3]))+'-'+str(int(A[4])) +'-'+str(int(i))\n",
    "    image_array = cam.grab(1)    # grab 1 frame\n",
    "    image_array=np.array(image_array)\n",
    "    image_array=image_array.squeeze()\n",
    "    image = Image.fromarray(image_array)\n",
    "    mkdir(r'C:\\Users\\plasma\\Desktop\\m1')\n",
    "    imwrite(r'C:\\Users\\plasma\\Desktop\\m1\\{fig_name}.png'.format(fig_name=fig_name),image)\n",
    "    i=i+1\n",
    "#can use this to add aberration or add it on pi,see pi_control.py file"
   ]
  },
  {
   "cell_type": "code",
   "execution_count": 2,
   "metadata": {
    "scrolled": false
   },
   "outputs": [
    {
     "name": "stderr",
     "output_type": "stream",
     "text": [
      "C:\\Users\\plasma\\anaconda3\\lib\\site-packages\\pygad\\pygad.py:522: UserWarning: The percentage of genes to mutate (mutation_percent_genes=1) resutled in selecting (0) genes. The number of genes to mutate is set to 1 (mutation_num_genes=1).\n",
      "If you do not want to mutate any gene, please set mutation_type=None.\n",
      "  if not self.suppress_warnings: warnings.warn(\"The percentage of genes to mutate (mutation_percent_genes={mutation_percent}) resutled in selecting ({mutation_num}) genes. The number of genes to mutate is set to 1 (mutation_num_genes=1).\\nIf you do not want to mutate any gene, please set mutation_type=None.\".format(mutation_percent=mutation_percent_genes, mutation_num=mutation_num_genes))\n"
     ]
    },
    {
     "name": "stdout",
     "output_type": "stream",
     "text": [
      "Generation = 1\n",
      "Fitness    = 3.667715172284133\n",
      "Change     = 3.667715172284133\n",
      "Generation = 2\n",
      "Fitness    = 3.667715172284133\n",
      "Change     = 0.0\n",
      "Generation = 3\n",
      "Fitness    = 3.667715172284133\n",
      "Change     = 0.0\n",
      "Generation = 4\n",
      "Fitness    = 3.667715172284133\n",
      "Change     = 0.0\n",
      "Generation = 5\n",
      "Fitness    = 3.667715172284133\n",
      "Change     = 0.0\n",
      "Generation = 6\n",
      "Fitness    = 3.667715172284133\n",
      "Change     = 0.0\n",
      "Generation = 7\n",
      "Fitness    = 3.667715172284133\n",
      "Change     = 0.0\n",
      "Generation = 8\n",
      "Fitness    = 3.667715172284133\n",
      "Change     = 0.0\n",
      "Generation = 9\n",
      "Fitness    = 3.667715172284133\n",
      "Change     = 0.0\n",
      "Generation = 10\n",
      "Fitness    = 3.667715172284133\n",
      "Change     = 0.0\n"
     ]
    },
    {
     "data": {
      "image/png": "[encoded data removed]",
      "text/plain": [
       "<Figure size 640x480 with 1 Axes>"
      ]
     },
     "metadata": {},
     "output_type": "display_data"
    },
    {
     "name": "stdout",
     "output_type": "stream",
     "text": [
      "Parameters of the best solution : [ 207.92504846   25.14252507 2691.65424662 2024.1214525  2110.67016878]\n",
      "Fitness value of the best solution = 3.667715172284133\n",
      "Index of the best solution : 0\n",
      "Best fitness value reached after 0 generations.\n"
     ]
    },
    {
     "ename": "AttributeError",
     "evalue": "'ThorlabsTLCamera' object has no attribute '__getstate__'",
     "output_type": "error",
     "traceback": [
      "\u001b[1;31m---------------------------------------------------------------------------\u001b[0m",
      "\u001b[1;31mAttributeError\u001b[0m                            Traceback (most recent call last)",
      "Cell \u001b[1;32mIn[2], line 91\u001b[0m\n\u001b[0;32m     89\u001b[0m \u001b[38;5;66;03m# Saving the GA instance.\u001b[39;00m\n\u001b[0;32m     90\u001b[0m filename \u001b[38;5;241m=\u001b[39m \u001b[38;5;124m'\u001b[39m\u001b[38;5;124mgenetic\u001b[39m\u001b[38;5;124m'\u001b[39m \u001b[38;5;66;03m# The filename to which the instance is saved. The name is without extension.\u001b[39;00m\n\u001b[1;32m---> 91\u001b[0m \u001b[43mga_instance\u001b[49m\u001b[38;5;241;43m.\u001b[39;49m\u001b[43msave\u001b[49m\u001b[43m(\u001b[49m\u001b[43mfilename\u001b[49m\u001b[38;5;241;43m=\u001b[39;49m\u001b[43mfilename\u001b[49m\u001b[43m)\u001b[49m\n\u001b[0;32m     93\u001b[0m \u001b[38;5;66;03m# Loading the saved GA instance.\u001b[39;00m\n\u001b[0;32m     94\u001b[0m loaded_ga_instance \u001b[38;5;241m=\u001b[39m pygad\u001b[38;5;241m.\u001b[39mload(filename\u001b[38;5;241m=\u001b[39mfilename)\n",
      "File \u001b[1;32m~\\anaconda3\\lib\\site-packages\\pygad\\pygad.py:3920\u001b[0m, in \u001b[0;36mGA.save\u001b[1;34m(self, filename)\u001b[0m\n\u001b[0;32m   3913\u001b[0m \u001b[38;5;28;01mdef\u001b[39;00m \u001b[38;5;21msave\u001b[39m(\u001b[38;5;28mself\u001b[39m, filename):\n\u001b[0;32m   3915\u001b[0m     \u001b[38;5;124;03m\"\"\"\u001b[39;00m\n\u001b[0;32m   3916\u001b[0m \u001b[38;5;124;03m    Saves the genetic algorithm instance:\u001b[39;00m\n\u001b[0;32m   3917\u001b[0m \u001b[38;5;124;03m        -filename: Name of the file to save the instance. No extension is needed.\u001b[39;00m\n\u001b[0;32m   3918\u001b[0m \u001b[38;5;124;03m    \"\"\"\u001b[39;00m\n\u001b[1;32m-> 3920\u001b[0m     cloudpickle_serialized_object \u001b[38;5;241m=\u001b[39m \u001b[43mcloudpickle\u001b[49m\u001b[38;5;241;43m.\u001b[39;49m\u001b[43mdumps\u001b[49m\u001b[43m(\u001b[49m\u001b[38;5;28;43mself\u001b[39;49m\u001b[43m)\u001b[49m\n\u001b[0;32m   3921\u001b[0m     \u001b[38;5;28;01mwith\u001b[39;00m \u001b[38;5;28mopen\u001b[39m(filename \u001b[38;5;241m+\u001b[39m \u001b[38;5;124m\"\u001b[39m\u001b[38;5;124m.pkl\u001b[39m\u001b[38;5;124m\"\u001b[39m, \u001b[38;5;124m'\u001b[39m\u001b[38;5;124mwb\u001b[39m\u001b[38;5;124m'\u001b[39m) \u001b[38;5;28;01mas\u001b[39;00m file:\n\u001b[0;32m   3922\u001b[0m         file\u001b[38;5;241m.\u001b[39mwrite(cloudpickle_serialized_object)\n",
      "File \u001b[1;32m~\\anaconda3\\lib\\site-packages\\cloudpickle\\cloudpickle_fast.py:73\u001b[0m, in \u001b[0;36mdumps\u001b[1;34m(obj, protocol, buffer_callback)\u001b[0m\n\u001b[0;32m     69\u001b[0m \u001b[38;5;28;01mwith\u001b[39;00m io\u001b[38;5;241m.\u001b[39mBytesIO() \u001b[38;5;28;01mas\u001b[39;00m file:\n\u001b[0;32m     70\u001b[0m     cp \u001b[38;5;241m=\u001b[39m CloudPickler(\n\u001b[0;32m     71\u001b[0m         file, protocol\u001b[38;5;241m=\u001b[39mprotocol, buffer_callback\u001b[38;5;241m=\u001b[39mbuffer_callback\n\u001b[0;32m     72\u001b[0m     )\n\u001b[1;32m---> 73\u001b[0m     \u001b[43mcp\u001b[49m\u001b[38;5;241;43m.\u001b[39;49m\u001b[43mdump\u001b[49m\u001b[43m(\u001b[49m\u001b[43mobj\u001b[49m\u001b[43m)\u001b[49m\n\u001b[0;32m     74\u001b[0m     \u001b[38;5;28;01mreturn\u001b[39;00m file\u001b[38;5;241m.\u001b[39mgetvalue()\n",
      "File \u001b[1;32m~\\anaconda3\\lib\\site-packages\\cloudpickle\\cloudpickle_fast.py:602\u001b[0m, in \u001b[0;36mCloudPickler.dump\u001b[1;34m(self, obj)\u001b[0m\n\u001b[0;32m    600\u001b[0m \u001b[38;5;28;01mdef\u001b[39;00m \u001b[38;5;21mdump\u001b[39m(\u001b[38;5;28mself\u001b[39m, obj):\n\u001b[0;32m    601\u001b[0m     \u001b[38;5;28;01mtry\u001b[39;00m:\n\u001b[1;32m--> 602\u001b[0m         \u001b[38;5;28;01mreturn\u001b[39;00m \u001b[43mPickler\u001b[49m\u001b[38;5;241;43m.\u001b[39;49m\u001b[43mdump\u001b[49m\u001b[43m(\u001b[49m\u001b[38;5;28;43mself\u001b[39;49m\u001b[43m,\u001b[49m\u001b[43m \u001b[49m\u001b[43mobj\u001b[49m\u001b[43m)\u001b[49m\n\u001b[0;32m    603\u001b[0m     \u001b[38;5;28;01mexcept\u001b[39;00m \u001b[38;5;167;01mRuntimeError\u001b[39;00m \u001b[38;5;28;01mas\u001b[39;00m e:\n\u001b[0;32m    604\u001b[0m         \u001b[38;5;28;01mif\u001b[39;00m \u001b[38;5;124m\"\u001b[39m\u001b[38;5;124mrecursion\u001b[39m\u001b[38;5;124m\"\u001b[39m \u001b[38;5;129;01min\u001b[39;00m e\u001b[38;5;241m.\u001b[39margs[\u001b[38;5;241m0\u001b[39m]:\n",
      "File \u001b[1;32m~\\anaconda3\\lib\\site-packages\\pylablib\\core\\devio\\interface.py:107\u001b[0m, in \u001b[0;36mIDevice.NoParameterCaller.__getattr__.<locals>.<lambda>\u001b[1;34m(*args, **kwargs)\u001b[0m\n\u001b[0;32m    106\u001b[0m \u001b[38;5;28;01mdef\u001b[39;00m \u001b[38;5;21m__getattr__\u001b[39m(\u001b[38;5;28mself\u001b[39m, name):\n\u001b[1;32m--> 107\u001b[0m     \u001b[38;5;28;01mreturn\u001b[39;00m \u001b[38;5;28;01mlambda\u001b[39;00m \u001b[38;5;241m*\u001b[39margs,\u001b[38;5;241m*\u001b[39m\u001b[38;5;241m*\u001b[39mkwargs: \u001b[38;5;28;43mself\u001b[39;49m\u001b[38;5;241;43m.\u001b[39;49m\u001b[43mdevice\u001b[49m\u001b[38;5;241;43m.\u001b[39;49m\u001b[43m_call_without_parameters\u001b[49m\u001b[43m(\u001b[49m\u001b[43mname\u001b[49m\u001b[43m,\u001b[49m\u001b[38;5;28;43mself\u001b[39;49m\u001b[38;5;241;43m.\u001b[39;49m\u001b[43mkind\u001b[49m\u001b[43m,\u001b[49m\u001b[43margs\u001b[49m\u001b[43m,\u001b[49m\u001b[43mkwargs\u001b[49m\u001b[43m)\u001b[49m\n",
      "File \u001b[1;32m~\\anaconda3\\lib\\site-packages\\pylablib\\core\\devio\\interface.py:95\u001b[0m, in \u001b[0;36mIDevice._call_without_parameters\u001b[1;34m(self, name, kind, args, kwargs)\u001b[0m\n\u001b[0;32m     88\u001b[0m \u001b[38;5;124;03m\"\"\"\u001b[39;00m\n\u001b[0;32m     89\u001b[0m \u001b[38;5;124;03mCall a method with the given name without making parameter substitutions.\u001b[39;00m\n\u001b[0;32m     90\u001b[0m \u001b[38;5;124;03m\u001b[39;00m\n\u001b[0;32m     91\u001b[0m \u001b[38;5;124;03m`kind` can be ``\"wip\"`` (no input parameter substitutions), ``\"wip\"`` (no input parameter substitutions),\u001b[39;00m\n\u001b[0;32m     92\u001b[0m \u001b[38;5;124;03mor ``\"wap\"`` (no parameter substitutions at all).\u001b[39;00m\n\u001b[0;32m     93\u001b[0m \u001b[38;5;124;03m\"\"\"\u001b[39;00m\n\u001b[0;32m     94\u001b[0m funcargparse\u001b[38;5;241m.\u001b[39mcheck_parameter_range(kind,\u001b[38;5;124m\"\u001b[39m\u001b[38;5;124mkind\u001b[39m\u001b[38;5;124m\"\u001b[39m,[\u001b[38;5;124m\"\u001b[39m\u001b[38;5;124mwap\u001b[39m\u001b[38;5;124m\"\u001b[39m,\u001b[38;5;124m\"\u001b[39m\u001b[38;5;124mwip\u001b[39m\u001b[38;5;124m\"\u001b[39m,\u001b[38;5;124m\"\u001b[39m\u001b[38;5;124mwop\u001b[39m\u001b[38;5;124m\"\u001b[39m])\n\u001b[1;32m---> 95\u001b[0m method\u001b[38;5;241m=\u001b[39m\u001b[38;5;28;43mgetattr\u001b[39;49m\u001b[43m(\u001b[49m\u001b[38;5;28;43mself\u001b[39;49m\u001b[43m,\u001b[49m\u001b[43mname\u001b[49m\u001b[43m)\u001b[49m\n\u001b[0;32m     96\u001b[0m wpmethod\u001b[38;5;241m=\u001b[39m\u001b[38;5;124m\"\u001b[39m\u001b[38;5;124m_\u001b[39m\u001b[38;5;132;01m{}\u001b[39;00m\u001b[38;5;124m_method\u001b[39m\u001b[38;5;124m\"\u001b[39m\u001b[38;5;241m.\u001b[39mformat(kind)\n\u001b[0;32m     97\u001b[0m \u001b[38;5;28;01mif\u001b[39;00m \u001b[38;5;28mhasattr\u001b[39m(method,wpmethod):\n",
      "\u001b[1;31mAttributeError\u001b[0m: 'ThorlabsTLCamera' object has no attribute '__getstate__'"
     ]
    }
   ],
   "source": [
    "import pygad\n",
    "import laserbeamsize as lbs\n",
    "def get_quality_number(image_array):\n",
    "    \n",
    "    x, y, dx, dy, phi = lbs.beam_size(image_array)\n",
    "    Ellipticity = min(dx,dy)/max(dx,dy) \n",
    "    threshold_up_area = (image_array >= np.max(image_array)/10)+0  #define a threshold area\n",
    "    total_pixel = image_array.shape[0]*image_array.shape[1]   \n",
    "    dispersion = total_pixel/np.sum(threshold_up_area) \n",
    "    quality_number = dispersion*Ellipticity\n",
    "    return quality_number\n",
    "   \n",
    "def fitness_func(solution, solution_idx):\n",
    "    # Calculating the fitness value of each solution in the current population.\n",
    "    # solution is the PWM value for each channel\n",
    "    solution = np.trunc(solution).astype(int)\n",
    "    A = np.array([[solution[0]],[solution[1]],[solution[2]],[solution[3]],[solution[4]]])\n",
    "   \n",
    "    with open('PWM_test.csv', 'w', newline='') as file:\n",
    "        mywriter = csv.writer(file, delimiter=',')\n",
    "        mywriter.writerows(A)\n",
    "    # wait\n",
    "    time.sleep(0.1)    \n",
    "    # take images\n",
    "    cam.set_roi(370,950,240,840) # set ROI in the upper left corner\n",
    "    images = cam.grab(1) # grab 1 frames\n",
    "    # quality_number = get_quality_number(images)\n",
    "    quality_number = get_quality_number(image_array)\n",
    "    fitness = quality_number\n",
    "    return fitness \n",
    "\n",
    "fitness_function = fitness_func\n",
    "\n",
    "num_generations = 10 # Number of generations.\n",
    "num_parents_mating = 7 # Number of solutions to be selected as parents in the mating pool.\n",
    "\n",
    "# To prepare the initial population, there are 2 ways:\n",
    "# 1) Prepare it myself and pass it to the initial_population parameter. This way is useful when the user wants to start the genetic algorithm with a custom initial population.\n",
    "# my custom initial population here can include: active zeros, defocus,cylindrical, spherical,etc.\n",
    "# 2) Assign valid integer values to the sol_per_pop and num_genes parameters. If the initial_population parameter exists, then the sol_per_pop and num_genes parameters are useless.\n",
    "sol_per_pop = 50 # Number of solutions in the population.\n",
    "num_genes = 5\n",
    "mutation_percent_genes = 1\n",
    "init_range_low = 0         \n",
    "init_range_high = 4095\n",
    "\n",
    "last_fitness = 0\n",
    "def callback_generation(ga_instance):\n",
    "    global last_fitness\n",
    "    print(\"Generation = {generation}\".format(generation=ga_instance.generations_completed))\n",
    "    print(\"Fitness    = {fitness}\".format(fitness=ga_instance.best_solution()[1]))\n",
    "    print(\"Change     = {change}\".format(change=ga_instance.best_solution()[1] - last_fitness))\n",
    "    last_fitness = ga_instance.best_solution()[1]\n",
    "\n",
    "# Creating an instance of the GA class inside the ga module. Some parameters are initialized within the constructor.\n",
    "ga_instance = pygad.GA(num_generations=num_generations,\n",
    "                       num_parents_mating=num_parents_mating, \n",
    "                       fitness_func=fitness_function,\n",
    "                       sol_per_pop=sol_per_pop, \n",
    "                       num_genes=num_genes,\n",
    "                       init_range_low=init_range_low,\n",
    "                       init_range_high=init_range_high,\n",
    "                       mutation_percent_genes=mutation_percent_genes,\n",
    "                       on_generation=callback_generation)\n",
    "\n",
    "# Running the GA to optimize the parameters of the function.\n",
    "ga_instance.run()\n",
    "\n",
    "# After the generations complete, some plots are showed that summarize the how the outputs/fitenss values evolve over generations.\n",
    "ga_instance.plot_fitness()\n",
    "\n",
    "# Returning the details of the best solution.\n",
    "# solution, solution_fitness, solution_idx = ga_instance.best_solution()\n",
    "best_solution = ga_instance.best_solution()\n",
    "solution = best_solution[0]\n",
    "solution_fitness = best_solution[1]\n",
    "solution_idx = best_solution[2]\n",
    "\n",
    "print(\"Parameters of the best solution : {solution}\".format(solution=solution))\n",
    "print(\"Fitness value of the best solution = {solution_fitness}\".format(solution_fitness=solution_fitness))\n",
    "print(\"Index of the best solution : {solution_idx}\".format(solution_idx=solution_idx))\n",
    "\n",
    "# prediction = numpy.sum(numpy.array(function_inputs)*solution)\n",
    "# print(\"Predicted output based on the best solution : {prediction}\".format(prediction=prediction))\n",
    "\n",
    "if ga_instance.best_solution_generation != -1:\n",
    "    print(\"Best fitness value reached after {best_solution_generation} generations.\".format(best_solution_generation=ga_instance.best_solution_generation))\n",
    "\n",
    "# Saving the GA instance.\n",
    "filename = 'genetic' # The filename to which the instance is saved. The name is without extension.\n",
    "ga_instance.save(filename=filename)\n",
    "\n",
    "# Loading the saved GA instance.\n",
    "loaded_ga_instance = pygad.load(filename=filename)\n",
    "loaded_ga_instance.plot_fitness()"
   ]
  },
  {
   "cell_type": "code",
   "execution_count": null,
   "metadata": {},
   "outputs": [],
   "source": [
    "## close camera and are ready to run again\n",
    "cam.close()"
   ]
  },
  {
   "cell_type": "code",
   "execution_count": null,
   "metadata": {},
   "outputs": [],
   "source": []
  },
  {
   "cell_type": "code",
   "execution_count": null,
   "metadata": {},
   "outputs": [],
   "source": []
  }
 ],
 "metadata": {
  "kernelspec": {
   "display_name": "Python 3 (ipykernel)",
   "language": "python",
   "name": "python3"
  },
  "language_info": {
   "codemirror_mode": {
    "name": "ipython",
    "version": 3
   },
   "file_extension": ".py",
   "mimetype": "text/x-python",
   "name": "python",
   "nbconvert_exporter": "python",
   "pygments_lexer": "ipython3",
   "version": "3.10.9"
  },
  "vscode": {
   "interpreter": {
    "hash": "876db7d3f8682b7e4c5477e5f1e2dc2bd1b19fe05d9aabd59218369070754b39"
   }
  }
 },
 "nbformat": 4,
 "nbformat_minor": 2
}
